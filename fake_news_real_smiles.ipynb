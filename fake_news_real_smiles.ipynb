{
  "cells": [
    {
      "cell_type": "markdown",
      "metadata": {
        "id": "view-in-github",
        "colab_type": "text"
      },
      "source": [
        "<a href=\"https://colab.research.google.com/github/elise-cakecoding/dotfiles/blob/master/fake_news_real_smiles.ipynb\" target=\"_parent\"><img src=\"https://colab.research.google.com/assets/colab-badge.svg\" alt=\"Open In Colab\"/></a>"
      ]
    },
    {
      "cell_type": "markdown",
      "metadata": {
        "id": "h1wLCmF_8wTM"
      },
      "source": [
        "# Library Import\n"
      ]
    },
    {
      "cell_type": "code",
      "execution_count": 1,
      "metadata": {
        "tags": [
          "challengify"
        ],
        "id": "bIa-GUPV8wTP"
      },
      "outputs": [],
      "source": [
        "import numpy as np\n",
        "import pandas as pd\n",
        "import matplotlib.pyplot as plt\n",
        "import seaborn as sns\n",
        "\n",
        "from tensorflow.keras.models import Sequential\n",
        "from tensorflow.keras.optimizers import Adam\n",
        "from tensorflow.keras import layers\n",
        "from tensorflow.keras.layers import Embedding, LSTM, Dense\n",
        "from tensorflow.keras.preprocessing.sequence import pad_sequences\n",
        "from tensorflow.keras.preprocessing.text import Tokenizer\n"
      ]
    },
    {
      "cell_type": "markdown",
      "metadata": {
        "id": "MumV-6Ed8wTS"
      },
      "source": [
        "#  Deep Learning Challenge"
      ]
    },
    {
      "cell_type": "markdown",
      "metadata": {
        "id": "8kFMb1n58wTT"
      },
      "source": [
        "ℹ️ This exam is split into 2 independent parts:\n",
        "1. 📇 RNN challenge - Real or Fake ? A fake news classification analysis on American press articles (2H)\n",
        "2. 😀CNN challenge - Human happiness predictor (1H)"
      ]
    },
    {
      "cell_type": "markdown",
      "metadata": {
        "id": "WCk2YEqBhdP2"
      },
      "source": [
        "##   📇 RNN challenge - Fake or Real News ?"
      ]
    },
    {
      "cell_type": "markdown",
      "metadata": {
        "id": "nBIvyMN-8wTU"
      },
      "source": [
        "**ℹ️ This challenge assesses the following skills of the third block of the certification _Reconnaissance de formes par réseaux de neurones artificiels_:**\n",
        "- C14 Convertir les données entrantes (images et texte par exemple) en données adaptées pour un réseau de neurones (100%)\n",
        "- C15 Maîtriser les différentes architectures de réseau de neurones : convolutifs pour les images & récurrents pour les séries temporelles et les modèles de traitement automatique du langage (NLP) pour le texte (50%)\n",
        "- C17 Utiliser un réseau de neurones pour comprendre l'intention d'une phrase en langage naturel (100%)"
      ]
    },
    {
      "cell_type": "markdown",
      "metadata": {
        "id": "JBXc4442fJZV"
      },
      "source": [
        "### Objectives\n",
        "\n",
        "-  Data Exploration (5 minutes)\n",
        "-  Data Cleaning & preprocessing (45 minutes)\n",
        "-  Data Modeling with RNN (45 minutes)\n",
        "-  Fine-tune an analyse model performance (15 minutes)"
      ]
    },
    {
      "cell_type": "markdown",
      "metadata": {
        "id": "gv76LFXjqzau"
      },
      "source": [
        "### 1.1 Load an explore our dataset"
      ]
    },
    {
      "cell_type": "markdown",
      "metadata": {
        "id": "Q2y6s_Mh8wTV"
      },
      "source": [
        "**👉 Load the dataset (250 Mo)**"
      ]
    },
    {
      "cell_type": "code",
      "execution_count": 3,
      "metadata": {
        "id": "UBhEqBMH8wTV"
      },
      "outputs": [],
      "source": [
        "data = pd.read_csv('https://wagon-public-datasets.s3.amazonaws.com/certification/fake_news_real_smiles/articles_full.csv')\n",
        "#data = pd.read_csv('articles_full.csv')"
      ]
    },
    {
      "cell_type": "code",
      "execution_count": null,
      "metadata": {
        "id": "gJfaHOsz8wTV",
        "outputId": "10ebbdaf-2e53-4182-e3ce-40290bf85d0f"
      },
      "outputs": [
        {
          "data": {
            "text/html": [
              "<div>\n",
              "<style scoped>\n",
              "    .dataframe tbody tr th:only-of-type {\n",
              "        vertical-align: middle;\n",
              "    }\n",
              "\n",
              "    .dataframe tbody tr th {\n",
              "        vertical-align: top;\n",
              "    }\n",
              "\n",
              "    .dataframe thead th {\n",
              "        text-align: right;\n",
              "    }\n",
              "</style>\n",
              "<table border=\"1\" class=\"dataframe\">\n",
              "  <thead>\n",
              "    <tr style=\"text-align: right;\">\n",
              "      <th></th>\n",
              "      <th>title</th>\n",
              "      <th>content</th>\n",
              "      <th>full_text</th>\n",
              "      <th>target</th>\n",
              "      <th>length</th>\n",
              "    </tr>\n",
              "  </thead>\n",
              "  <tbody>\n",
              "    <tr>\n",
              "      <th>0</th>\n",
              "      <td>Alabama County Succeeds In Re-Instituting Sch...</td>\n",
              "      <td>The Republican-controlled southern states have...</td>\n",
              "      <td>Alabama County Succeeds In Re-Instituting Sch...</td>\n",
              "      <td>1</td>\n",
              "      <td>381</td>\n",
              "    </tr>\n",
              "    <tr>\n",
              "      <th>1</th>\n",
              "      <td>Did You Spot The ‘Pants On Fire’ Moment In Tr...</td>\n",
              "      <td>The Trump campaign is busy attempting to clean...</td>\n",
              "      <td>Did You Spot The ‘Pants On Fire’ Moment In Tr...</td>\n",
              "      <td>1</td>\n",
              "      <td>358</td>\n",
              "    </tr>\n",
              "    <tr>\n",
              "      <th>2</th>\n",
              "      <td>Sarah Palin Faced Sexual Harassment At Fox Ne...</td>\n",
              "      <td>When high-profile women like Sarah Palin stay ...</td>\n",
              "      <td>Sarah Palin Faced Sexual Harassment At Fox Ne...</td>\n",
              "      <td>1</td>\n",
              "      <td>605</td>\n",
              "    </tr>\n",
              "    <tr>\n",
              "      <th>3</th>\n",
              "      <td>Marco Rubio NAILS IT: Trump As President Woul...</td>\n",
              "      <td>Florida Senator Marco Rubio has been going aft...</td>\n",
              "      <td>Marco Rubio NAILS IT: Trump As President Woul...</td>\n",
              "      <td>1</td>\n",
              "      <td>562</td>\n",
              "    </tr>\n",
              "    <tr>\n",
              "      <th>4</th>\n",
              "      <td>HOW GORSUCH Will Have Immediate Effect On Hist...</td>\n",
              "      <td>Neil M. Gorsuch joins the Supreme Court just i...</td>\n",
              "      <td>HOW GORSUCH Will Have Immediate Effect On Hist...</td>\n",
              "      <td>1</td>\n",
              "      <td>341</td>\n",
              "    </tr>\n",
              "    <tr>\n",
              "      <th>...</th>\n",
              "      <td>...</td>\n",
              "      <td>...</td>\n",
              "      <td>...</td>\n",
              "      <td>...</td>\n",
              "      <td>...</td>\n",
              "    </tr>\n",
              "    <tr>\n",
              "      <th>39754</th>\n",
              "      <td>California Today: ‘Zoot Suit’ Memories - The N...</td>\n",
              "      <td>Good morning. (Want to get California Today b...</td>\n",
              "      <td>California Today: ‘Zoot Suit’ Memories - The N...</td>\n",
              "      <td>0</td>\n",
              "      <td>980</td>\n",
              "    </tr>\n",
              "    <tr>\n",
              "      <th>39755</th>\n",
              "      <td>Going Under the Knife, With Eyes and Ears Wide...</td>\n",
              "      <td>BENSALEM, Pa.  —   “Do you want to see your te...</td>\n",
              "      <td>Going Under the Knife, With Eyes and Ears Wide...</td>\n",
              "      <td>0</td>\n",
              "      <td>1854</td>\n",
              "    </tr>\n",
              "    <tr>\n",
              "      <th>39756</th>\n",
              "      <td>Confidence Even as Hillary Clinton’s Momentum ...</td>\n",
              "      <td>WASHINGTON  —   The announcement that the F. B...</td>\n",
              "      <td>Confidence Even as Hillary Clinton’s Momentum ...</td>\n",
              "      <td>0</td>\n",
              "      <td>1214</td>\n",
              "    </tr>\n",
              "    <tr>\n",
              "      <th>39757</th>\n",
              "      <td>US Senate approves DeVos as education secretar...</td>\n",
              "      <td>With a tie-breaking vote by Vice President Mik...</td>\n",
              "      <td>US Senate approves DeVos as education secretar...</td>\n",
              "      <td>0</td>\n",
              "      <td>1931</td>\n",
              "    </tr>\n",
              "    <tr>\n",
              "      <th>39758</th>\n",
              "      <td>North Korea, Far From Crazy, Is All Too Ration...</td>\n",
              "      <td>Is North Korea irrational? Or does it just pre...</td>\n",
              "      <td>North Korea, Far From Crazy, Is All Too Ration...</td>\n",
              "      <td>0</td>\n",
              "      <td>1359</td>\n",
              "    </tr>\n",
              "  </tbody>\n",
              "</table>\n",
              "<p>39759 rows × 5 columns</p>\n",
              "</div>"
            ],
            "text/plain": [
              "                                                   title  \\\n",
              "0       Alabama County Succeeds In Re-Instituting Sch...   \n",
              "1       Did You Spot The ‘Pants On Fire’ Moment In Tr...   \n",
              "2       Sarah Palin Faced Sexual Harassment At Fox Ne...   \n",
              "3       Marco Rubio NAILS IT: Trump As President Woul...   \n",
              "4      HOW GORSUCH Will Have Immediate Effect On Hist...   \n",
              "...                                                  ...   \n",
              "39754  California Today: ‘Zoot Suit’ Memories - The N...   \n",
              "39755  Going Under the Knife, With Eyes and Ears Wide...   \n",
              "39756  Confidence Even as Hillary Clinton’s Momentum ...   \n",
              "39757  US Senate approves DeVos as education secretar...   \n",
              "39758  North Korea, Far From Crazy, Is All Too Ration...   \n",
              "\n",
              "                                                 content  \\\n",
              "0      The Republican-controlled southern states have...   \n",
              "1      The Trump campaign is busy attempting to clean...   \n",
              "2      When high-profile women like Sarah Palin stay ...   \n",
              "3      Florida Senator Marco Rubio has been going aft...   \n",
              "4      Neil M. Gorsuch joins the Supreme Court just i...   \n",
              "...                                                  ...   \n",
              "39754   Good morning. (Want to get California Today b...   \n",
              "39755  BENSALEM, Pa.  —   “Do you want to see your te...   \n",
              "39756  WASHINGTON  —   The announcement that the F. B...   \n",
              "39757  With a tie-breaking vote by Vice President Mik...   \n",
              "39758  Is North Korea irrational? Or does it just pre...   \n",
              "\n",
              "                                               full_text  target  length  \n",
              "0       Alabama County Succeeds In Re-Instituting Sch...       1     381  \n",
              "1       Did You Spot The ‘Pants On Fire’ Moment In Tr...       1     358  \n",
              "2       Sarah Palin Faced Sexual Harassment At Fox Ne...       1     605  \n",
              "3       Marco Rubio NAILS IT: Trump As President Woul...       1     562  \n",
              "4      HOW GORSUCH Will Have Immediate Effect On Hist...       1     341  \n",
              "...                                                  ...     ...     ...  \n",
              "39754  California Today: ‘Zoot Suit’ Memories - The N...       0     980  \n",
              "39755  Going Under the Knife, With Eyes and Ears Wide...       0    1854  \n",
              "39756  Confidence Even as Hillary Clinton’s Momentum ...       0    1214  \n",
              "39757  US Senate approves DeVos as education secretar...       0    1931  \n",
              "39758  North Korea, Far From Crazy, Is All Too Ration...       0    1359  \n",
              "\n",
              "[39759 rows x 5 columns]"
            ]
          },
          "execution_count": 4,
          "metadata": {},
          "output_type": "execute_result"
        }
      ],
      "source": [
        "data"
      ]
    },
    {
      "cell_type": "code",
      "execution_count": null,
      "metadata": {
        "id": "BAOWUg7C8wTW",
        "outputId": "c4b27d21-e058-4068-834e-e97fa6502123"
      },
      "outputs": [
        {
          "data": {
            "text/plain": [
              "4051"
            ]
          },
          "execution_count": 5,
          "metadata": {},
          "output_type": "execute_result"
        }
      ],
      "source": [
        "data.duplicated().sum()"
      ]
    },
    {
      "cell_type": "code",
      "execution_count": null,
      "metadata": {
        "id": "UyM_oRIK8wTW"
      },
      "outputs": [],
      "source": [
        "#data = data.drop_duplicates()"
      ]
    },
    {
      "cell_type": "code",
      "execution_count": null,
      "metadata": {
        "id": "wf6oQrFE8wTW"
      },
      "outputs": [],
      "source": [
        "#data = data.dropna()"
      ]
    },
    {
      "cell_type": "markdown",
      "metadata": {
        "id": "Kbg6j4vK8wTX"
      },
      "source": [
        "Our dataset contains approximately 30,000 American news articles from 2016 to 2018, some of them are real, some of them are fake news (1 for fake, 0 for real)\n",
        "\n",
        "Each row represent an article with\n",
        "- `title` as the article title\n",
        "- `content` as the core article content\n",
        "- `full_text` the concatenation of `title` and `content` feature with an empty space in between\n",
        "- `target` indicates wether the article is fake (1) or not (0)\n",
        "- `length`the number of words in the article (title + content)\n"
      ]
    },
    {
      "cell_type": "markdown",
      "metadata": {
        "id": "d3Ll6ckQ8wTX"
      },
      "source": [
        "**❓ Plot the distribution of the target in your dataset.**"
      ]
    },
    {
      "cell_type": "code",
      "execution_count": 4,
      "metadata": {
        "ExecuteTime": {
          "end_time": "2021-09-10T13:30:09.163219Z",
          "start_time": "2021-09-10T13:30:08.919754Z"
        },
        "tags": [
          "challengify"
        ],
        "colab": {
          "base_uri": "https://localhost:8080/",
          "height": 466
        },
        "id": "uATw2RPa8wTX",
        "outputId": "67c1b6f3-d089-429d-cfad-e16d46b09365"
      },
      "outputs": [
        {
          "output_type": "execute_result",
          "data": {
            "text/plain": [
              "<Axes: xlabel='target', ylabel='Count'>"
            ]
          },
          "metadata": {},
          "execution_count": 4
        },
        {
          "output_type": "display_data",
          "data": {
            "text/plain": [
              "<Figure size 640x480 with 1 Axes>"
            ],
            "image/png": "[encoded data removed]"
          },
          "metadata": {}
        }
      ],
      "source": [
        "sns.histplot(data['target'])"
      ]
    },
    {
      "cell_type": "markdown",
      "metadata": {
        "id": "VzFijZL88wTY"
      },
      "source": [
        "**❓ Plot the title and target of the article at index 33**"
      ]
    },
    {
      "cell_type": "code",
      "execution_count": 5,
      "metadata": {
        "tags": [
          "challengify"
        ],
        "colab": {
          "base_uri": "https://localhost:8080/"
        },
        "id": "bVCoDb-X8wTY",
        "outputId": "88cf29f1-c64e-4e7a-a4cb-f0a4a070926f"
      },
      "outputs": [
        {
          "output_type": "execute_result",
          "data": {
            "text/plain": [
              "title     OBAMA’S BACKDOOR GUN CONFISCATION: 260,000 VET...\n",
              "target                                                    1\n",
              "Name: 33, dtype: object"
            ]
          },
          "metadata": {},
          "execution_count": 5
        }
      ],
      "source": [
        "data[['title', 'target']].iloc[33]"
      ]
    },
    {
      "cell_type": "markdown",
      "metadata": {
        "id": "AjeMU0GTwFSe"
      },
      "source": [
        "### 1.2 Data cleaning"
      ]
    },
    {
      "cell_type": "markdown",
      "metadata": {
        "id": "Pdj0N_OT8wTZ"
      },
      "source": [
        "_C14 Convertir les données entrantes (images et texte par exemple) en données adaptées pour un réseau de neurones (100%)_"
      ]
    },
    {
      "cell_type": "markdown",
      "metadata": {
        "id": "BO1QweET8wTZ"
      },
      "source": [
        "**❓ Create a new column `clean_text` that:**\n",
        "\n",
        "1. Transform the column `full_text` from strings of words to a `list of words`\n",
        " - example : \"Hilary Clinton is likely to become president\" should become: **[Hilary, Clinton, is, likely, to, become, president]**\n",
        "\n",
        "\n",
        "2. Then lowercase all words\n",
        " - example : [Hilary, Clinton, is, likely, to, become, president] should become: **[hilary, clinton, is, likely, to, become, president]**\n",
        "\n",
        "\n",
        "3. Then remove empty words (ie = \"\")\n",
        " - example : [\"\", obama, speech] should become: **[obama, speech]**"
      ]
    },
    {
      "cell_type": "markdown",
      "metadata": {
        "id": "ENBW5nN68wTZ"
      },
      "source": [
        "**❓ Create `clean_text` to transform `full_text` into a feature with each articles being a list of words**"
      ]
    },
    {
      "cell_type": "code",
      "execution_count": 6,
      "metadata": {
        "id": "KD9REd3q8wTZ"
      },
      "outputs": [],
      "source": [
        "#first execute this cell to ensure that full_text only contains strings\n",
        "data[\"full_text\"] = data[\"full_text\"].astype(str)"
      ]
    },
    {
      "cell_type": "code",
      "execution_count": 7,
      "metadata": {
        "colab": {
          "base_uri": "https://localhost:8080/",
          "height": 1000
        },
        "id": "ymFrDvwO8wTa",
        "outputId": "a1db8001-d207-4b53-cd2b-4597c8372e07"
      },
      "outputs": [
        {
          "output_type": "execute_result",
          "data": {
            "text/plain": [
              "                                                   title  \\\n",
              "0       Alabama County Succeeds In Re-Instituting Sch...   \n",
              "1       Did You Spot The ‘Pants On Fire’ Moment In Tr...   \n",
              "2       Sarah Palin Faced Sexual Harassment At Fox Ne...   \n",
              "3       Marco Rubio NAILS IT: Trump As President Woul...   \n",
              "4      HOW GORSUCH Will Have Immediate Effect On Hist...   \n",
              "...                                                  ...   \n",
              "39754  California Today: ‘Zoot Suit’ Memories - The N...   \n",
              "39755  Going Under the Knife, With Eyes and Ears Wide...   \n",
              "39756  Confidence Even as Hillary Clinton’s Momentum ...   \n",
              "39757  US Senate approves DeVos as education secretar...   \n",
              "39758  North Korea, Far From Crazy, Is All Too Ration...   \n",
              "\n",
              "                                                 content  \\\n",
              "0      The Republican-controlled southern states have...   \n",
              "1      The Trump campaign is busy attempting to clean...   \n",
              "2      When high-profile women like Sarah Palin stay ...   \n",
              "3      Florida Senator Marco Rubio has been going aft...   \n",
              "4      Neil M. Gorsuch joins the Supreme Court just i...   \n",
              "...                                                  ...   \n",
              "39754   Good morning. (Want to get California Today b...   \n",
              "39755  BENSALEM, Pa.  —   “Do you want to see your te...   \n",
              "39756  WASHINGTON  —   The announcement that the F. B...   \n",
              "39757  With a tie-breaking vote by Vice President Mik...   \n",
              "39758  Is North Korea irrational? Or does it just pre...   \n",
              "\n",
              "                                               full_text  target  length  \\\n",
              "0       Alabama County Succeeds In Re-Instituting Sch...       1     381   \n",
              "1       Did You Spot The ‘Pants On Fire’ Moment In Tr...       1     358   \n",
              "2       Sarah Palin Faced Sexual Harassment At Fox Ne...       1     605   \n",
              "3       Marco Rubio NAILS IT: Trump As President Woul...       1     562   \n",
              "4      HOW GORSUCH Will Have Immediate Effect On Hist...       1     341   \n",
              "...                                                  ...     ...     ...   \n",
              "39754  California Today: ‘Zoot Suit’ Memories - The N...       0     980   \n",
              "39755  Going Under the Knife, With Eyes and Ears Wide...       0    1854   \n",
              "39756  Confidence Even as Hillary Clinton’s Momentum ...       0    1214   \n",
              "39757  US Senate approves DeVos as education secretar...       0    1931   \n",
              "39758  North Korea, Far From Crazy, Is All Too Ration...       0    1359   \n",
              "\n",
              "                                              clean_text  \n",
              "0      [alabama, county, succeeds, in, re-instituting...  \n",
              "1      [did, you, spot, the, ‘pants, on, fire’, momen...  \n",
              "2      [sarah, palin, faced, sexual, harassment, at, ...  \n",
              "3      [marco, rubio, nails, it:, trump, as, presiden...  \n",
              "4      [how, gorsuch, will, have, immediate, effect, ...  \n",
              "...                                                  ...  \n",
              "39754  [california, today:, ‘zoot, suit’, memories, -...  \n",
              "39755  [going, under, the, knife,, with, eyes, and, e...  \n",
              "39756  [confidence, even, as, hillary, clinton’s, mom...  \n",
              "39757  [us, senate, approves, devos, as, education, s...  \n",
              "39758  [north, korea,, far, from, crazy,, is, all, to...  \n",
              "\n",
              "[39759 rows x 6 columns]"
            ],
            "text/html": [
              "\n",
              "  <div id=\"df-69aeae65-92d2-4a8e-ab78-ae874aef315e\" class=\"colab-df-container\">\n",
              "    <div>\n",
              "<style scoped>\n",
              "    .dataframe tbody tr th:only-of-type {\n",
              "        vertical-align: middle;\n",
              "    }\n",
              "\n",
              "    .dataframe tbody tr th {\n",
              "        vertical-align: top;\n",
              "    }\n",
              "\n",
              "    .dataframe thead th {\n",
              "        text-align: right;\n",
              "    }\n",
              "</style>\n",
              "<table border=\"1\" class=\"dataframe\">\n",
              "  <thead>\n",
              "    <tr style=\"text-align: right;\">\n",
              "      <th></th>\n",
              "      <th>title</th>\n",
              "      <th>content</th>\n",
              "      <th>full_text</th>\n",
              "      <th>target</th>\n",
              "      <th>length</th>\n",
              "      <th>clean_text</th>\n",
              "    </tr>\n",
              "  </thead>\n",
              "  <tbody>\n",
              "    <tr>\n",
              "      <th>0</th>\n",
              "      <td>Alabama County Succeeds In Re-Instituting Sch...</td>\n",
              "      <td>The Republican-controlled southern states have...</td>\n",
              "      <td>Alabama County Succeeds In Re-Instituting Sch...</td>\n",
              "      <td>1</td>\n",
              "      <td>381</td>\n",
              "      <td>[alabama, county, succeeds, in, re-instituting...</td>\n",
              "    </tr>\n",
              "    <tr>\n",
              "      <th>1</th>\n",
              "      <td>Did You Spot The ‘Pants On Fire’ Moment In Tr...</td>\n",
              "      <td>The Trump campaign is busy attempting to clean...</td>\n",
              "      <td>Did You Spot The ‘Pants On Fire’ Moment In Tr...</td>\n",
              "      <td>1</td>\n",
              "      <td>358</td>\n",
              "      <td>[did, you, spot, the, ‘pants, on, fire’, momen...</td>\n",
              "    </tr>\n",
              "    <tr>\n",
              "      <th>2</th>\n",
              "      <td>Sarah Palin Faced Sexual Harassment At Fox Ne...</td>\n",
              "      <td>When high-profile women like Sarah Palin stay ...</td>\n",
              "      <td>Sarah Palin Faced Sexual Harassment At Fox Ne...</td>\n",
              "      <td>1</td>\n",
              "      <td>605</td>\n",
              "      <td>[sarah, palin, faced, sexual, harassment, at, ...</td>\n",
              "    </tr>\n",
              "    <tr>\n",
              "      <th>3</th>\n",
              "      <td>Marco Rubio NAILS IT: Trump As President Woul...</td>\n",
              "      <td>Florida Senator Marco Rubio has been going aft...</td>\n",
              "      <td>Marco Rubio NAILS IT: Trump As President Woul...</td>\n",
              "      <td>1</td>\n",
              "      <td>562</td>\n",
              "      <td>[marco, rubio, nails, it:, trump, as, presiden...</td>\n",
              "    </tr>\n",
              "    <tr>\n",
              "      <th>4</th>\n",
              "      <td>HOW GORSUCH Will Have Immediate Effect On Hist...</td>\n",
              "      <td>Neil M. Gorsuch joins the Supreme Court just i...</td>\n",
              "      <td>HOW GORSUCH Will Have Immediate Effect On Hist...</td>\n",
              "      <td>1</td>\n",
              "      <td>341</td>\n",
              "      <td>[how, gorsuch, will, have, immediate, effect, ...</td>\n",
              "    </tr>\n",
              "    <tr>\n",
              "      <th>...</th>\n",
              "      <td>...</td>\n",
              "      <td>...</td>\n",
              "      <td>...</td>\n",
              "      <td>...</td>\n",
              "      <td>...</td>\n",
              "      <td>...</td>\n",
              "    </tr>\n",
              "    <tr>\n",
              "      <th>39754</th>\n",
              "      <td>California Today: ‘Zoot Suit’ Memories - The N...</td>\n",
              "      <td>Good morning. (Want to get California Today b...</td>\n",
              "      <td>California Today: ‘Zoot Suit’ Memories - The N...</td>\n",
              "      <td>0</td>\n",
              "      <td>980</td>\n",
              "      <td>[california, today:, ‘zoot, suit’, memories, -...</td>\n",
              "    </tr>\n",
              "    <tr>\n",
              "      <th>39755</th>\n",
              "      <td>Going Under the Knife, With Eyes and Ears Wide...</td>\n",
              "      <td>BENSALEM, Pa.  —   “Do you want to see your te...</td>\n",
              "      <td>Going Under the Knife, With Eyes and Ears Wide...</td>\n",
              "      <td>0</td>\n",
              "      <td>1854</td>\n",
              "      <td>[going, under, the, knife,, with, eyes, and, e...</td>\n",
              "    </tr>\n",
              "    <tr>\n",
              "      <th>39756</th>\n",
              "      <td>Confidence Even as Hillary Clinton’s Momentum ...</td>\n",
              "      <td>WASHINGTON  —   The announcement that the F. B...</td>\n",
              "      <td>Confidence Even as Hillary Clinton’s Momentum ...</td>\n",
              "      <td>0</td>\n",
              "      <td>1214</td>\n",
              "      <td>[confidence, even, as, hillary, clinton’s, mom...</td>\n",
              "    </tr>\n",
              "    <tr>\n",
              "      <th>39757</th>\n",
              "      <td>US Senate approves DeVos as education secretar...</td>\n",
              "      <td>With a tie-breaking vote by Vice President Mik...</td>\n",
              "      <td>US Senate approves DeVos as education secretar...</td>\n",
              "      <td>0</td>\n",
              "      <td>1931</td>\n",
              "      <td>[us, senate, approves, devos, as, education, s...</td>\n",
              "    </tr>\n",
              "    <tr>\n",
              "      <th>39758</th>\n",
              "      <td>North Korea, Far From Crazy, Is All Too Ration...</td>\n",
              "      <td>Is North Korea irrational? Or does it just pre...</td>\n",
              "      <td>North Korea, Far From Crazy, Is All Too Ration...</td>\n",
              "      <td>0</td>\n",
              "      <td>1359</td>\n",
              "      <td>[north, korea,, far, from, crazy,, is, all, to...</td>\n",
              "    </tr>\n",
              "  </tbody>\n",
              "</table>\n",
              "<p>39759 rows × 6 columns</p>\n",
              "</div>\n",
              "    <div class=\"colab-df-buttons\">\n",
              "\n",
              "  <div class=\"colab-df-container\">\n",
              "    <button class=\"colab-df-convert\" onclick=\"convertToInteractive('df-69aeae65-92d2-4a8e-ab78-ae874aef315e')\"\n",
              "            title=\"Convert this dataframe to an interactive table.\"\n",
              "            style=\"display:none;\">\n",
              "\n",
              "  <svg xmlns=\"http://www.w3.org/2000/svg\" height=\"24px\" viewBox=\"0 -960 960 960\">\n",
              "    <path d=\"M120-120v-720h720v720H120Zm60-500h600v-160H180v160Zm220 220h160v-160H400v160Zm0 220h160v-160H400v160ZM180-400h160v-160H180v160Zm440 0h160v-160H620v160ZM180-180h160v-160H180v160Zm440 0h160v-160H620v160Z\"/>\n",
              "  </svg>\n",
              "    </button>\n",
              "\n",
              "  <style>\n",
              "    .colab-df-container {\n",
              "      display:flex;\n",
              "      gap: 12px;\n",
              "    }\n",
              "\n",
              "    .colab-df-convert {\n",
              "      background-color: #E8F0FE;\n",
              "      border: none;\n",
              "      border-radius: 50%;\n",
              "      cursor: pointer;\n",
              "      display: none;\n",
              "      fill: #1967D2;\n",
              "      height: 32px;\n",
              "      padding: 0 0 0 0;\n",
              "      width: 32px;\n",
              "    }\n",
              "\n",
              "    .colab-df-convert:hover {\n",
              "      background-color: #E2EBFA;\n",
              "      box-shadow: 0px 1px 2px rgba(60, 64, 67, 0.3), 0px 1px 3px 1px rgba(60, 64, 67, 0.15);\n",
              "      fill: #174EA6;\n",
              "    }\n",
              "\n",
              "    .colab-df-buttons div {\n",
              "      margin-bottom: 4px;\n",
              "    }\n",
              "\n",
              "    [theme=dark] .colab-df-convert {\n",
              "      background-color: #3B4455;\n",
              "      fill: #D2E3FC;\n",
              "    }\n",
              "\n",
              "    [theme=dark] .colab-df-convert:hover {\n",
              "      background-color: #434B5C;\n",
              "      box-shadow: 0px 1px 3px 1px rgba(0, 0, 0, 0.15);\n",
              "      filter: drop-shadow(0px 1px 2px rgba(0, 0, 0, 0.3));\n",
              "      fill: #FFFFFF;\n",
              "    }\n",
              "  </style>\n",
              "\n",
              "    <script>\n",
              "      const buttonEl =\n",
              "        document.querySelector('#df-69aeae65-92d2-4a8e-ab78-ae874aef315e button.colab-df-convert');\n",
              "      buttonEl.style.display =\n",
              "        google.colab.kernel.accessAllowed ? 'block' : 'none';\n",
              "\n",
              "      async function convertToInteractive(key) {\n",
              "        const element = document.querySelector('#df-69aeae65-92d2-4a8e-ab78-ae874aef315e');\n",
              "        const dataTable =\n",
              "          await google.colab.kernel.invokeFunction('convertToInteractive',\n",
              "                                                    [key], {});\n",
              "        if (!dataTable) return;\n",
              "\n",
              "        const docLinkHtml = 'Like what you see? Visit the ' +\n",
              "          '<a target=\"_blank\" href=https://colab.research.google.com/notebooks/data_table.ipynb>data table notebook</a>'\n",
              "          + ' to learn more about interactive tables.';\n",
              "        element.innerHTML = '';\n",
              "        dataTable['output_type'] = 'display_data';\n",
              "        await google.colab.output.renderOutput(dataTable, element);\n",
              "        const docLink = document.createElement('div');\n",
              "        docLink.innerHTML = docLinkHtml;\n",
              "        element.appendChild(docLink);\n",
              "      }\n",
              "    </script>\n",
              "  </div>\n",
              "\n",
              "\n",
              "<div id=\"df-bab90db7-217a-44c5-be7a-02866d04b6a5\">\n",
              "  <button class=\"colab-df-quickchart\" onclick=\"quickchart('df-bab90db7-217a-44c5-be7a-02866d04b6a5')\"\n",
              "            title=\"Suggest charts\"\n",
              "            style=\"display:none;\">\n",
              "\n",
              "<svg xmlns=\"http://www.w3.org/2000/svg\" height=\"24px\"viewBox=\"0 0 24 24\"\n",
              "     width=\"24px\">\n",
              "    <g>\n",
              "        <path d=\"M19 3H5c-1.1 0-2 .9-2 2v14c0 1.1.9 2 2 2h14c1.1 0 2-.9 2-2V5c0-1.1-.9-2-2-2zM9 17H7v-7h2v7zm4 0h-2V7h2v10zm4 0h-2v-4h2v4z\"/>\n",
              "    </g>\n",
              "</svg>\n",
              "  </button>\n",
              "\n",
              "<style>\n",
              "  .colab-df-quickchart {\n",
              "      --bg-color: #E8F0FE;\n",
              "      --fill-color: #1967D2;\n",
              "      --hover-bg-color: #E2EBFA;\n",
              "      --hover-fill-color: #174EA6;\n",
              "      --disabled-fill-color: #AAA;\n",
              "      --disabled-bg-color: #DDD;\n",
              "  }\n",
              "\n",
              "  [theme=dark] .colab-df-quickchart {\n",
              "      --bg-color: #3B4455;\n",
              "      --fill-color: #D2E3FC;\n",
              "      --hover-bg-color: #434B5C;\n",
              "      --hover-fill-color: #FFFFFF;\n",
              "      --disabled-bg-color: #3B4455;\n",
              "      --disabled-fill-color: #666;\n",
              "  }\n",
              "\n",
              "  .colab-df-quickchart {\n",
              "    background-color: var(--bg-color);\n",
              "    border: none;\n",
              "    border-radius: 50%;\n",
              "    cursor: pointer;\n",
              "    display: none;\n",
              "    fill: var(--fill-color);\n",
              "    height: 32px;\n",
              "    padding: 0;\n",
              "    width: 32px;\n",
              "  }\n",
              "\n",
              "  .colab-df-quickchart:hover {\n",
              "    background-color: var(--hover-bg-color);\n",
              "    box-shadow: 0 1px 2px rgba(60, 64, 67, 0.3), 0 1px 3px 1px rgba(60, 64, 67, 0.15);\n",
              "    fill: var(--button-hover-fill-color);\n",
              "  }\n",
              "\n",
              "  .colab-df-quickchart-complete:disabled,\n",
              "  .colab-df-quickchart-complete:disabled:hover {\n",
              "    background-color: var(--disabled-bg-color);\n",
              "    fill: var(--disabled-fill-color);\n",
              "    box-shadow: none;\n",
              "  }\n",
              "\n",
              "  .colab-df-spinner {\n",
              "    border: 2px solid var(--fill-color);\n",
              "    border-color: transparent;\n",
              "    border-bottom-color: var(--fill-color);\n",
              "    animation:\n",
              "      spin 1s steps(1) infinite;\n",
              "  }\n",
              "\n",
              "  @keyframes spin {\n",
              "    0% {\n",
              "      border-color: transparent;\n",
              "      border-bottom-color: var(--fill-color);\n",
              "      border-left-color: var(--fill-color);\n",
              "    }\n",
              "    20% {\n",
              "      border-color: transparent;\n",
              "      border-left-color: var(--fill-color);\n",
              "      border-top-color: var(--fill-color);\n",
              "    }\n",
              "    30% {\n",
              "      border-color: transparent;\n",
              "      border-left-color: var(--fill-color);\n",
              "      border-top-color: var(--fill-color);\n",
              "      border-right-color: var(--fill-color);\n",
              "    }\n",
              "    40% {\n",
              "      border-color: transparent;\n",
              "      border-right-color: var(--fill-color);\n",
              "      border-top-color: var(--fill-color);\n",
              "    }\n",
              "    60% {\n",
              "      border-color: transparent;\n",
              "      border-right-color: var(--fill-color);\n",
              "    }\n",
              "    80% {\n",
              "      border-color: transparent;\n",
              "      border-right-color: var(--fill-color);\n",
              "      border-bottom-color: var(--fill-color);\n",
              "    }\n",
              "    90% {\n",
              "      border-color: transparent;\n",
              "      border-bottom-color: var(--fill-color);\n",
              "    }\n",
              "  }\n",
              "</style>\n",
              "\n",
              "  <script>\n",
              "    async function quickchart(key) {\n",
              "      const quickchartButtonEl =\n",
              "        document.querySelector('#' + key + ' button');\n",
              "      quickchartButtonEl.disabled = true;  // To prevent multiple clicks.\n",
              "      quickchartButtonEl.classList.add('colab-df-spinner');\n",
              "      try {\n",
              "        const charts = await google.colab.kernel.invokeFunction(\n",
              "            'suggestCharts', [key], {});\n",
              "      } catch (error) {\n",
              "        console.error('Error during call to suggestCharts:', error);\n",
              "      }\n",
              "      quickchartButtonEl.classList.remove('colab-df-spinner');\n",
              "      quickchartButtonEl.classList.add('colab-df-quickchart-complete');\n",
              "    }\n",
              "    (() => {\n",
              "      let quickchartButtonEl =\n",
              "        document.querySelector('#df-bab90db7-217a-44c5-be7a-02866d04b6a5 button');\n",
              "      quickchartButtonEl.style.display =\n",
              "        google.colab.kernel.accessAllowed ? 'block' : 'none';\n",
              "    })();\n",
              "  </script>\n",
              "</div>\n",
              "    </div>\n",
              "  </div>\n"
            ]
          },
          "metadata": {},
          "execution_count": 7
        }
      ],
      "source": [
        "def lowercase(sentence):\n",
        "    #$CHALLENGIFY_BEGIN\n",
        "    result = [word.lower() for word in sentence if word != \"\"]\n",
        "    return result\n",
        "\n",
        "data['clean_text'] = data['full_text'].apply(lambda x: [word.lower() for word in x.split() if word != \"\"])\n",
        "#data.clean_text = data.clean_text.apply(lowercase)\n",
        "data\n",
        "#$CHALLENGIFY_END"
      ]
    },
    {
      "cell_type": "code",
      "execution_count": null,
      "metadata": {
        "tags": [
          "challengify"
        ],
        "id": "PW3UAF0m8wTa"
      },
      "outputs": [],
      "source": [
        "# import string\n",
        "\n",
        "# def clean_text (text) :\n",
        "#     # # Remove uppercase\n",
        "#     # text = text.lower()\n",
        "#     # #Remove punctuations\n",
        "#     # punctuations = string.punctuation\n",
        "#     # for punctuation in punctuations:\n",
        "#     #     text = text.replace(punctuation, '')\n",
        "#     #slpit into a list of words :\n",
        "#     text = text.slpit()\n",
        "#     #text= text.remove(\"\")"
      ]
    },
    {
      "cell_type": "markdown",
      "metadata": {
        "id": "0Z-BqGa-8wTa"
      },
      "source": [
        "**❓ Transform `clean_text` in order to put all words lowercase and remove empty word**\n"
      ]
    },
    {
      "cell_type": "markdown",
      "metadata": {
        "id": "3Ms6HZZC8wTb"
      },
      "source": [
        "#### 💾 Save your results\n",
        "\n",
        "Run the cell below to save your results."
      ]
    },
    {
      "cell_type": "code",
      "source": [
        "! mkdir tests"
      ],
      "metadata": {
        "id": "X8rSNc0J-Myz"
      },
      "execution_count": 15,
      "outputs": []
    },
    {
      "cell_type": "code",
      "source": [
        "! pip install nbresult"
      ],
      "metadata": {
        "colab": {
          "base_uri": "https://localhost:8080/"
        },
        "id": "Aqmm2WqU9ohk",
        "outputId": "fbe33464-8083-4a17-89b7-f552e2e4edd5"
      },
      "execution_count": 10,
      "outputs": [
        {
          "output_type": "stream",
          "name": "stdout",
          "text": [
            "Collecting nbresult\n",
            "  Downloading nbresult-0.0.9-py3-none-any.whl (4.3 kB)\n",
            "Installing collected packages: nbresult\n",
            "Successfully installed nbresult-0.0.9\n"
          ]
        }
      ]
    },
    {
      "cell_type": "code",
      "execution_count": 16,
      "metadata": {
        "ExecuteTime": {
          "end_time": "2021-09-10T13:31:00.999738Z",
          "start_time": "2021-09-10T13:31:00.991932Z"
        },
        "id": "o3-ZJiRf8wTb"
      },
      "outputs": [],
      "source": [
        "import nbresult\n",
        "from nbresult import ChallengeResult\n",
        "result = ChallengeResult('rnn_data_cleaning',\n",
        "                         first_article = data.clean_text[0],\n",
        "                         article_shape = type(data.clean_text[0])\n",
        "                        )\n",
        "result.write()"
      ]
    },
    {
      "cell_type": "markdown",
      "metadata": {
        "id": "mBhl4Jc18wTb"
      },
      "source": [
        "Your goal is to train a recurrent neural network model to predict if an article is fake or not based solely on the title and content of the article.\n",
        "\n",
        "- Create your X matrice feature, which **contains only your clean_text feature as ndarray**\n",
        "- Create your target vector y as ndarray\n",
        "- Create your holdout sets: 4 variables (X_train, y_train) and (X_test, y_test) keeping the first 70% as the train set\n",
        "- X and y shapes should fit a RNN (model.fit(X,y)), and we will do it in the next coming cells!\n",
        "\n",
        "😌 Don't worry, you will be given the solution in the next question in case you don't make it"
      ]
    },
    {
      "cell_type": "markdown",
      "metadata": {
        "id": "it6AJU5q8wTb"
      },
      "source": [
        "**❓ Define X and y**"
      ]
    },
    {
      "cell_type": "code",
      "execution_count": 17,
      "metadata": {
        "tags": [
          "challengify"
        ],
        "id": "QOKXNU7q8wTb"
      },
      "outputs": [],
      "source": [
        "X = np.array(data.clean_text)\n",
        "y= np.array(data.target)"
      ]
    },
    {
      "cell_type": "markdown",
      "metadata": {
        "id": "Pc8saYe-8wTc"
      },
      "source": [
        "**❓ Create X_train, X_test, y_train, y_test**"
      ]
    },
    {
      "cell_type": "code",
      "execution_count": 18,
      "metadata": {
        "tags": [
          "challengify"
        ],
        "id": "Wghsi5an8wTc"
      },
      "outputs": [],
      "source": [
        "# Split into Train/Test\n",
        "train_size = int(len(X) * 0.7)\n",
        "X_train = X[:train_size]\n",
        "X_test = X[train_size:]\n",
        "y_train = y[:train_size]\n",
        "y_test = y[train_size:]"
      ]
    },
    {
      "cell_type": "markdown",
      "metadata": {
        "id": "zI2fScSa8wTc"
      },
      "source": [
        "Execute this cell to remove unfrequent words to keep words that appear at least 20 times within the corpus"
      ]
    },
    {
      "cell_type": "code",
      "execution_count": 19,
      "metadata": {
        "colab": {
          "base_uri": "https://localhost:8080/",
          "height": 175
        },
        "id": "o1Z7Afs-8wTd",
        "outputId": "6722f577-8ede-4a38-9c07-8ca07fd8883c"
      },
      "outputs": [
        {
          "output_type": "error",
          "ename": "NameError",
          "evalue": "ignored",
          "traceback": [
            "\u001b[0;31m---------------------------------------------------------------------------\u001b[0m",
            "\u001b[0;31mNameError\u001b[0m                                 Traceback (most recent call last)",
            "\u001b[0;32m<ipython-input-19-fba95a370cea>\u001b[0m in \u001b[0;36m<cell line: 1>\u001b[0;34m()\u001b[0m\n\u001b[0;32m----> 1\u001b[0;31m \u001b[0mX_clean_train\u001b[0m\u001b[0;34m.\u001b[0m\u001b[0mshape\u001b[0m\u001b[0;34m\u001b[0m\u001b[0;34m\u001b[0m\u001b[0m\n\u001b[0m",
            "\u001b[0;31mNameError\u001b[0m: name 'X_clean_train' is not defined"
          ]
        }
      ],
      "source": []
    },
    {
      "cell_type": "code",
      "execution_count": 20,
      "metadata": {
        "id": "Nv4crbBm8wTc"
      },
      "outputs": [],
      "source": [
        "def get_number_of_occurences(sentences):\n",
        "    occurences = {}\n",
        "    for s in sentences:\n",
        "        for w in s:\n",
        "            if w not in occurences:\n",
        "                occurences[w] = 0\n",
        "            occurences[w] += 1\n",
        "    return occurences\n",
        "\n",
        "def keep_frequent_words(X, occurences, min_occurence):\n",
        "\n",
        "    frequent_words = {k:v for k, v in occurences.items() if v >= min_occurence}\n",
        "    output_sentences = [[word for word in sentence if word in frequent_words] for sentence in X]\n",
        "\n",
        "    return output_sentences\n",
        "\n",
        "\n",
        "# –– Data clearning\n",
        "occurences = get_number_of_occurences(X_train)\n",
        "X_clean_train = keep_frequent_words(X_train, occurences, min_occurence=20)\n",
        "X_clean_test = keep_frequent_words(X_test, occurences, min_occurence=20)"
      ]
    },
    {
      "cell_type": "markdown",
      "metadata": {
        "id": "MJm1JAZl8wTd"
      },
      "source": [
        "**❓You will need to do some data preprocessing. First, start by tokenization. Don't forget to compute the size of your vocabulary under `vocab_size` variable 😉**"
      ]
    },
    {
      "cell_type": "code",
      "execution_count": 21,
      "metadata": {
        "tags": [
          "challengify"
        ],
        "colab": {
          "base_uri": "https://localhost:8080/"
        },
        "id": "BFg-3pR68wTd",
        "outputId": "186089cb-be65-4613-c27a-6a9bc0ac0edd"
      },
      "outputs": [
        {
          "output_type": "stream",
          "name": "stdout",
          "text": [
            "There are 25337 different words in your corpus\n"
          ]
        }
      ],
      "source": [
        "tk = Tokenizer()\n",
        "tk.fit_on_texts(X_clean_train)\n",
        "vocab_size = len(tk.word_index)\n",
        "print(f'There are {vocab_size} different words in your corpus')\n"
      ]
    },
    {
      "cell_type": "code",
      "execution_count": 22,
      "metadata": {
        "id": "0Cpsx-QN8wTx"
      },
      "outputs": [],
      "source": [
        "\n",
        "X_token_train = tk.texts_to_sequences(X_clean_train)\n",
        "X_token_test = tk.texts_to_sequences(X_clean_test)\n"
      ]
    },
    {
      "cell_type": "code",
      "execution_count": null,
      "metadata": {
        "id": "vOjeMUOl8wTy"
      },
      "outputs": [],
      "source": [
        "vocab_size = 25337"
      ]
    },
    {
      "cell_type": "markdown",
      "metadata": {
        "id": "OULW7KC_8wTy"
      },
      "source": [
        "**👉 Execute this cell to vizualise the histogram of article sizes**"
      ]
    },
    {
      "cell_type": "code",
      "execution_count": 23,
      "metadata": {
        "tags": [
          "clear_output"
        ],
        "colab": {
          "base_uri": "https://localhost:8080/",
          "height": 425
        },
        "id": "vungBKH08wTy",
        "outputId": "baba643d-767e-4b93-febc-477c19a29e76"
      },
      "outputs": [
        {
          "output_type": "execute_result",
          "data": {
            "text/plain": [
              "(0.0, 4000.0)"
            ]
          },
          "metadata": {},
          "execution_count": 23
        },
        {
          "output_type": "display_data",
          "data": {
            "text/plain": [
              "<Figure size 1200x700 with 1 Axes>"
            ],
            "image/png": "[encoded data removed]"
          },
          "metadata": {}
        }
      ],
      "source": [
        "plt.figure(figsize=(12,7))\n",
        "sns.histplot(data=data, x=data.length, hue=data.target)\n",
        "plt.xlim(0,4000)"
      ]
    },
    {
      "cell_type": "markdown",
      "metadata": {
        "id": "8rrIH5J08wTy"
      },
      "source": [
        "As you have noticed, most articles contains more than 500 words, but for computation time, we will here only keep the first 100 words."
      ]
    },
    {
      "cell_type": "markdown",
      "metadata": {
        "id": "k8DDbTRN8wTy"
      },
      "source": [
        "**❓ Pad your data (use a value `maxlen` equal to 100)**\n",
        "- Store it under `X_train_pad`and `X_test_pad`\n",
        "- For computation reason, keep maximum **100 words**, this will still allow our model to have crucial information from articles, such as the title and the beginning of the article"
      ]
    },
    {
      "cell_type": "code",
      "execution_count": 24,
      "metadata": {
        "tags": [
          "challengify"
        ],
        "id": "dcIWwf0d8wTy"
      },
      "outputs": [],
      "source": [
        "from keras.utils import pad_sequences\n",
        "\n",
        "X_train_pad = pad_sequences(X_token_train, padding=\"post\", maxlen=100)\n",
        "X_test_pad = pad_sequences(X_token_test, padding=\"post\", maxlen=100)"
      ]
    },
    {
      "cell_type": "markdown",
      "metadata": {
        "id": "SDJpsrT58wTy"
      },
      "source": [
        "#### 💾 Save your results\n",
        "\n",
        "Run the cell below to save your results."
      ]
    },
    {
      "cell_type": "code",
      "execution_count": 25,
      "metadata": {
        "id": "FAD9dZ4k8wTz"
      },
      "outputs": [],
      "source": [
        "from nbresult import ChallengeResult\n",
        "result = ChallengeResult('rnn_data_preprocessing',\n",
        "                         X_train_pad_shape = X_train_pad.shape,\n",
        "                         vocab_size = vocab_size)\n",
        "result.write()"
      ]
    },
    {
      "cell_type": "markdown",
      "metadata": {
        "id": "77XRW3Nl8wTz"
      },
      "source": [
        "### 1.3 Training"
      ]
    },
    {
      "cell_type": "markdown",
      "metadata": {
        "id": "ZQp2-jc-8wTz"
      },
      "source": [
        "_C15 Maîtriser les différentes architectures de réseau de neurones : convolutifs pour les images & récurrents pour les séries temporelles et les modèles de traitement automatique du langage (NLP) pour le texte (50%)_\n",
        "\n",
        "_C17 Utiliser un réseau de neurones pour comprendre l'intention d'une phrase en langage naturel (100%)_"
      ]
    },
    {
      "cell_type": "markdown",
      "metadata": {
        "id": "Frvs-O5b8wTz"
      },
      "source": [
        "❓ **Before training a complex model, evaluate your baseline score**\n",
        "- We will use the _accuracy_ as performance metric in this challenge\n",
        "- What would be your baseline score?\n",
        "- Store the result under `score_baseline`"
      ]
    },
    {
      "cell_type": "markdown",
      "metadata": {
        "id": "Sh1NEtuG8wTz"
      },
      "source": [
        " Only if you haven't managed to create your training sets above, you can start back from the solution by running the cell below\n",
        "\n",
        "⚠️ This will download ~500Mo of .pickle files on your current working directory\n",
        "Then it will load them into 4 ndarrays in memory, and it should delete initial .pickles from your disk\n"
      ]
    },
    {
      "cell_type": "code",
      "execution_count": null,
      "metadata": {
        "id": "ncnIHC2y8wTz"
      },
      "outputs": [],
      "source": [
        "import pickle\n",
        "\n",
        "def download_solutions():\n",
        "    file_names = [\"articles_X_train_pad.pickle\", \"articles_X_test_pad.pickle\", \"articles_y_train.pickle\", \"articles_y_test.pickle\"]\n",
        "    pickles = dict()\n",
        "\n",
        "    for file_name in file_names:\n",
        "        file_path = f\"data/articles/{file_name}\"\n",
        "        with open(file_path, 'rb') as handle:\n",
        "            pickles[file_name] = pickle.load(handle)\n",
        "\n",
        "    return pickles\n",
        "\n",
        "# UNCOMMENT THIS LINE BELOW TO GET THE CORRECTION IF NEEDED\n",
        "#X_train_pad, X_test_pad, y_train, y_test = download_solutions().values()"
      ]
    },
    {
      "cell_type": "code",
      "execution_count": null,
      "metadata": {
        "id": "pajIpR3y8wT0"
      },
      "outputs": [],
      "source": [
        "#vocab_size = max([max(sequence) for sequence in X_train_pad]) + 1"
      ]
    },
    {
      "cell_type": "code",
      "execution_count": 30,
      "metadata": {
        "tags": [
          "challengify"
        ],
        "colab": {
          "base_uri": "https://localhost:8080/"
        },
        "id": "0ldjfYun8wT0",
        "outputId": "4ec4fc6a-9e76-468e-d53a-e0f71dad7fb2"
      },
      "outputs": [
        {
          "output_type": "execute_result",
          "data": {
            "text/plain": [
              "0.5006665157574386"
            ]
          },
          "metadata": {},
          "execution_count": 30
        }
      ],
      "source": [
        "score_baseline = np.average(y)\n",
        "score_baseline"
      ]
    },
    {
      "cell_type": "markdown",
      "metadata": {
        "id": "_z9_R8qs8wT0"
      },
      "source": [
        "❓ **Build and fit a neural network**\n",
        "\n",
        "- Name it `model`\n",
        "- Store output of `.fit()` in a variable `history`\n",
        "- You **cannot** use transfer learning nor any other pre-trained models\n",
        "- You must use a **Recurrent** architecture to _capture_ a notion of order in the sentences' words\n",
        "- Do maximum 10 epochs, and set **batch_size to 64** to make training faster\n",
        "- You don't need to cross-validate your model. Simply hold-out a validation set as you see fit\n",
        "- Manage wisely your training time\n",
        "\n",
        "💡 You will not be judged by the computing power of your computer, but you should obtain significantly better performance than the baseline in less than 5 minutes without GPUs"
      ]
    },
    {
      "cell_type": "code",
      "source": [],
      "metadata": {
        "id": "pN3x_sN0AJ3t"
      },
      "execution_count": null,
      "outputs": []
    },
    {
      "cell_type": "code",
      "execution_count": 33,
      "metadata": {
        "tags": [
          "challengify"
        ],
        "colab": {
          "base_uri": "https://localhost:8080/"
        },
        "id": "HR8HyiTI8wT0",
        "outputId": "2ce427b0-9358-43a6-ab24-d5796dc4dcd9"
      },
      "outputs": [
        {
          "output_type": "stream",
          "name": "stdout",
          "text": [
            "Epoch 1/10\n",
            "348/348 [==============================] - 36s 86ms/step - loss: 0.2168 - accuracy: 0.9216 - val_loss: 0.4155 - val_accuracy: 0.9175\n",
            "Epoch 2/10\n",
            "348/348 [==============================] - 11s 32ms/step - loss: 0.0682 - accuracy: 0.9761 - val_loss: 0.9029 - val_accuracy: 0.6865\n",
            "Epoch 3/10\n",
            "348/348 [==============================] - 11s 32ms/step - loss: 0.0316 - accuracy: 0.9894 - val_loss: 0.3938 - val_accuracy: 0.8602\n",
            "Epoch 4/10\n",
            "348/348 [==============================] - 8s 22ms/step - loss: 0.0155 - accuracy: 0.9950 - val_loss: 0.7624 - val_accuracy: 0.8525\n",
            "Epoch 5/10\n",
            "348/348 [==============================] - 7s 19ms/step - loss: 0.0095 - accuracy: 0.9971 - val_loss: 0.5115 - val_accuracy: 0.8665\n",
            "Epoch 6/10\n",
            "348/348 [==============================] - 8s 24ms/step - loss: 0.0049 - accuracy: 0.9984 - val_loss: 0.5115 - val_accuracy: 0.9052\n",
            "Epoch 7/10\n",
            "348/348 [==============================] - 6s 18ms/step - loss: 0.0039 - accuracy: 0.9990 - val_loss: 0.5814 - val_accuracy: 0.8813\n",
            "Epoch 8/10\n",
            "348/348 [==============================] - 12s 33ms/step - loss: 0.0023 - accuracy: 0.9993 - val_loss: 0.2435 - val_accuracy: 0.9542\n",
            "Epoch 9/10\n",
            "348/348 [==============================] - 8s 23ms/step - loss: 0.0014 - accuracy: 0.9992 - val_loss: 0.9615 - val_accuracy: 0.8410\n",
            "Epoch 10/10\n",
            "348/348 [==============================] - 6s 18ms/step - loss: 0.0011 - accuracy: 0.9998 - val_loss: 0.7330 - val_accuracy: 0.8786\n"
          ]
        }
      ],
      "source": [
        "\n",
        "model = Sequential()\n",
        "model.add(Embedding(input_dim=int(vocab_size)+1, output_dim=50, mask_zero=True))\n",
        "model.add(LSTM(units=20, activation='tanh'))\n",
        "model.add(Dense(units=10, activation='relu'))\n",
        "model.add(Dense(units=1, activation='sigmoid'))\n",
        "\n",
        "model.compile(\n",
        "        optimizer='rmsprop',\n",
        "        loss='binary_crossentropy',\n",
        "        metrics='accuracy')\n",
        "\n",
        "history_dict = model.fit(\n",
        "    X_train_pad,\n",
        "    y_train,\n",
        "    batch_size=64,\n",
        "    epochs=10,\n",
        "    validation_split=0.2)"
      ]
    },
    {
      "cell_type": "markdown",
      "metadata": {
        "id": "Xn4P_Lnm8wT1"
      },
      "source": [
        "❓ **Plot your training and validation Accuracy at each epoch using the cell below**"
      ]
    },
    {
      "cell_type": "code",
      "source": [],
      "metadata": {
        "id": "54P1H2S0BaIf"
      },
      "execution_count": null,
      "outputs": []
    },
    {
      "cell_type": "code",
      "execution_count": 36,
      "metadata": {
        "ExecuteTime": {
          "end_time": "2021-09-10T13:29:16.945870Z",
          "start_time": "2021-09-10T13:29:16.930183Z"
        },
        "colab": {
          "base_uri": "https://localhost:8080/",
          "height": 489
        },
        "id": "FIzmiV4M8wT1",
        "outputId": "a69f9100-1aa6-436a-f86e-24022fa7b6eb"
      },
      "outputs": [
        {
          "output_type": "display_data",
          "data": {
            "text/plain": [
              "<Figure size 640x480 with 1 Axes>"
            ],
            "image/png": "[encoded data removed]"
          },
          "metadata": {}
        },
        {
          "output_type": "display_data",
          "data": {
            "text/plain": [
              "<Figure size 640x480 with 0 Axes>"
            ]
          },
          "metadata": {}
        }
      ],
      "source": [
        "# Plot below your train/val loss history\n",
        "#$CHALLENGIFY_BEGIN\n",
        "\n",
        "import matplotlib.pyplot as plt\n",
        "\n",
        "acc = history_dict.history['accuracy']\n",
        "val_acc = history_dict.history['val_accuracy']\n",
        "\n",
        "epochs = range(1, len(acc) + 1)\n",
        "\n",
        "plt.plot(epochs, acc, 'r', label='Training Accuracy')\n",
        "plt.plot(epochs, val_acc, 'b', label='Validation Accuracy')\n",
        "plt.title('Training and validation Accuracy')\n",
        "plt.xlabel('Epochs')\n",
        "plt.ylabel('Accuracy')\n",
        "plt.legend()\n",
        "\n",
        "plt.show()\n",
        "#$CHALLENGIFY_END\n",
        "# Run also this code to save figure as jpg in path below (it's your job to ensure it works)\n",
        "fig = plt.gcf()\n",
        "fig.savefig(\"tests/history_rnn.png\")"
      ]
    },
    {
      "cell_type": "markdown",
      "metadata": {
        "id": "LmWBfQ2G8wT1"
      },
      "source": [
        "❓ **Evaluate your performances on test set**\n",
        "- Store your test score as `score_test`"
      ]
    },
    {
      "cell_type": "code",
      "execution_count": 41,
      "metadata": {
        "ExecuteTime": {
          "end_time": "2021-09-10T13:29:23.269829Z",
          "start_time": "2021-09-10T13:29:21.811565Z"
        },
        "colab": {
          "base_uri": "https://localhost:8080/"
        },
        "id": "RQMpEc4ITdne",
        "outputId": "3def5ba2-de9c-4ba1-fe8f-3d9f05164271",
        "scrolled": true,
        "tags": [
          "challengify"
        ]
      },
      "outputs": [
        {
          "output_type": "stream",
          "name": "stdout",
          "text": [
            "373/373 [==============================] - 2s 5ms/step - loss: 1.1944 - accuracy: 0.8255\n"
          ]
        },
        {
          "output_type": "execute_result",
          "data": {
            "text/plain": [
              "0.8255365490913391"
            ]
          },
          "metadata": {},
          "execution_count": 41
        }
      ],
      "source": [
        "score_test = model.evaluate(X_test_pad, y_test)[1]\n",
        "score_test"
      ]
    },
    {
      "cell_type": "markdown",
      "metadata": {
        "id": "B2fkt6Gf8wT1"
      },
      "source": [
        "#### 💾 Save your results\n",
        "\n",
        "Run the cell below to save your results."
      ]
    },
    {
      "cell_type": "code",
      "execution_count": 42,
      "metadata": {
        "id": "VlK4nFBt8wT1"
      },
      "outputs": [],
      "source": [
        "from nbresult import ChallengeResult\n",
        "import tensorflow as tf\n",
        "\n",
        "result = ChallengeResult(\n",
        "    \"rnn\",\n",
        "    input_shape = list(model.input.shape),\n",
        "    output_shape = list(model.output.shape),\n",
        "    X_train_pad_random = X_train_pad[33],\n",
        "    layer_names = [layer.name for layer in model.layers],\n",
        "    trainable_params = sum([tf.size(w_matrix).numpy() for w_matrix in model.trainable_variables]),\n",
        "    score_baseline = score_baseline,\n",
        "    score_test = score_test,\n",
        ")\n",
        "result.write()"
      ]
    },
    {
      "cell_type": "markdown",
      "metadata": {
        "id": "1i80BBUA8wT1"
      },
      "source": [
        "##  😀 CNN challenge - Smile Detector"
      ]
    },
    {
      "cell_type": "markdown",
      "metadata": {
        "id": "i3KDavT18wT2"
      },
      "source": [
        "**ℹ️ This challenge assesses the following skills of the third block of the certification _Reconnaissance de formes par réseaux de neurones artificiels_:**\n",
        "- C15 Maîtriser les différentes architectures de réseau de neurones : convolutifs pour les images & récurrents pour les séries temporelles et les modèles de traitement automatique du langage (NLP) pour le texte (50%)\n",
        "- C16 Utiliser un réseau de neurones convolutifs pour étiqueter des images (100%)"
      ]
    },
    {
      "cell_type": "markdown",
      "metadata": {
        "heading_collapsed": true,
        "id": "98eC_OEK8wT2"
      },
      "source": [
        "### Objectives\n",
        "-  Visualize images (10 minutes)\n",
        "-  Fit a custom CNN for a regression task (30 minutes)\n",
        "-  Fine-tune an analyse model performance (20 minutes)"
      ]
    },
    {
      "cell_type": "markdown",
      "metadata": {
        "id": "reeWq5yv8wT2"
      },
      "source": [
        "### 2.1 Data Preparation (given)"
      ]
    },
    {
      "cell_type": "markdown",
      "metadata": {
        "id": "N-0shDY68wT2"
      },
      "source": [
        "Our dataset contains 7000 human faces along with the binary class 1 for a smiling person or 0 for non smiling one"
      ]
    },
    {
      "cell_type": "code",
      "execution_count": 43,
      "metadata": {
        "tags": [
          "clear_output"
        ],
        "colab": {
          "base_uri": "https://localhost:8080/",
          "height": 206
        },
        "id": "k1rtTWSl8wT2",
        "outputId": "b10cbe41-0ba0-431c-c5f7-b103a8d37b2d"
      },
      "outputs": [
        {
          "output_type": "execute_result",
          "data": {
            "text/plain": [
              "                                              pixels  smile\n",
              "0  141 140 142 146 148 147 149 152 158 160 162 16...      1\n",
              "1  78 75 71 64 66 78 86 92 94 94 95 98 105 115 12...      1\n",
              "2  143 145 146 146 146 146 148 150 152 158 160 15...      1\n",
              "3  55 54 54 54 54 54 53 53 55 53 78 126 152 170 1...      1\n",
              "4  91 94 99 103 105 107 117 130 140 151 163 168 1...      1"
            ],
            "text/html": [
              "\n",
              "  <div id=\"df-e64cc6b7-c69d-4804-9461-8506707ba3d8\" class=\"colab-df-container\">\n",
              "    <div>\n",
              "<style scoped>\n",
              "    .dataframe tbody tr th:only-of-type {\n",
              "        vertical-align: middle;\n",
              "    }\n",
              "\n",
              "    .dataframe tbody tr th {\n",
              "        vertical-align: top;\n",
              "    }\n",
              "\n",
              "    .dataframe thead th {\n",
              "        text-align: right;\n",
              "    }\n",
              "</style>\n",
              "<table border=\"1\" class=\"dataframe\">\n",
              "  <thead>\n",
              "    <tr style=\"text-align: right;\">\n",
              "      <th></th>\n",
              "      <th>pixels</th>\n",
              "      <th>smile</th>\n",
              "    </tr>\n",
              "  </thead>\n",
              "  <tbody>\n",
              "    <tr>\n",
              "      <th>0</th>\n",
              "      <td>141 140 142 146 148 147 149 152 158 160 162 16...</td>\n",
              "      <td>1</td>\n",
              "    </tr>\n",
              "    <tr>\n",
              "      <th>1</th>\n",
              "      <td>78 75 71 64 66 78 86 92 94 94 95 98 105 115 12...</td>\n",
              "      <td>1</td>\n",
              "    </tr>\n",
              "    <tr>\n",
              "      <th>2</th>\n",
              "      <td>143 145 146 146 146 146 148 150 152 158 160 15...</td>\n",
              "      <td>1</td>\n",
              "    </tr>\n",
              "    <tr>\n",
              "      <th>3</th>\n",
              "      <td>55 54 54 54 54 54 53 53 55 53 78 126 152 170 1...</td>\n",
              "      <td>1</td>\n",
              "    </tr>\n",
              "    <tr>\n",
              "      <th>4</th>\n",
              "      <td>91 94 99 103 105 107 117 130 140 151 163 168 1...</td>\n",
              "      <td>1</td>\n",
              "    </tr>\n",
              "  </tbody>\n",
              "</table>\n",
              "</div>\n",
              "    <div class=\"colab-df-buttons\">\n",
              "\n",
              "  <div class=\"colab-df-container\">\n",
              "    <button class=\"colab-df-convert\" onclick=\"convertToInteractive('df-e64cc6b7-c69d-4804-9461-8506707ba3d8')\"\n",
              "            title=\"Convert this dataframe to an interactive table.\"\n",
              "            style=\"display:none;\">\n",
              "\n",
              "  <svg xmlns=\"http://www.w3.org/2000/svg\" height=\"24px\" viewBox=\"0 -960 960 960\">\n",
              "    <path d=\"M120-120v-720h720v720H120Zm60-500h600v-160H180v160Zm220 220h160v-160H400v160Zm0 220h160v-160H400v160ZM180-400h160v-160H180v160Zm440 0h160v-160H620v160ZM180-180h160v-160H180v160Zm440 0h160v-160H620v160Z\"/>\n",
              "  </svg>\n",
              "    </button>\n",
              "\n",
              "  <style>\n",
              "    .colab-df-container {\n",
              "      display:flex;\n",
              "      gap: 12px;\n",
              "    }\n",
              "\n",
              "    .colab-df-convert {\n",
              "      background-color: #E8F0FE;\n",
              "      border: none;\n",
              "      border-radius: 50%;\n",
              "      cursor: pointer;\n",
              "      display: none;\n",
              "      fill: #1967D2;\n",
              "      height: 32px;\n",
              "      padding: 0 0 0 0;\n",
              "      width: 32px;\n",
              "    }\n",
              "\n",
              "    .colab-df-convert:hover {\n",
              "      background-color: #E2EBFA;\n",
              "      box-shadow: 0px 1px 2px rgba(60, 64, 67, 0.3), 0px 1px 3px 1px rgba(60, 64, 67, 0.15);\n",
              "      fill: #174EA6;\n",
              "    }\n",
              "\n",
              "    .colab-df-buttons div {\n",
              "      margin-bottom: 4px;\n",
              "    }\n",
              "\n",
              "    [theme=dark] .colab-df-convert {\n",
              "      background-color: #3B4455;\n",
              "      fill: #D2E3FC;\n",
              "    }\n",
              "\n",
              "    [theme=dark] .colab-df-convert:hover {\n",
              "      background-color: #434B5C;\n",
              "      box-shadow: 0px 1px 3px 1px rgba(0, 0, 0, 0.15);\n",
              "      filter: drop-shadow(0px 1px 2px rgba(0, 0, 0, 0.3));\n",
              "      fill: #FFFFFF;\n",
              "    }\n",
              "  </style>\n",
              "\n",
              "    <script>\n",
              "      const buttonEl =\n",
              "        document.querySelector('#df-e64cc6b7-c69d-4804-9461-8506707ba3d8 button.colab-df-convert');\n",
              "      buttonEl.style.display =\n",
              "        google.colab.kernel.accessAllowed ? 'block' : 'none';\n",
              "\n",
              "      async function convertToInteractive(key) {\n",
              "        const element = document.querySelector('#df-e64cc6b7-c69d-4804-9461-8506707ba3d8');\n",
              "        const dataTable =\n",
              "          await google.colab.kernel.invokeFunction('convertToInteractive',\n",
              "                                                    [key], {});\n",
              "        if (!dataTable) return;\n",
              "\n",
              "        const docLinkHtml = 'Like what you see? Visit the ' +\n",
              "          '<a target=\"_blank\" href=https://colab.research.google.com/notebooks/data_table.ipynb>data table notebook</a>'\n",
              "          + ' to learn more about interactive tables.';\n",
              "        element.innerHTML = '';\n",
              "        dataTable['output_type'] = 'display_data';\n",
              "        await google.colab.output.renderOutput(dataTable, element);\n",
              "        const docLink = document.createElement('div');\n",
              "        docLink.innerHTML = docLinkHtml;\n",
              "        element.appendChild(docLink);\n",
              "      }\n",
              "    </script>\n",
              "  </div>\n",
              "\n",
              "\n",
              "<div id=\"df-db98d925-577c-40f9-9bd8-538ee3ab14f7\">\n",
              "  <button class=\"colab-df-quickchart\" onclick=\"quickchart('df-db98d925-577c-40f9-9bd8-538ee3ab14f7')\"\n",
              "            title=\"Suggest charts\"\n",
              "            style=\"display:none;\">\n",
              "\n",
              "<svg xmlns=\"http://www.w3.org/2000/svg\" height=\"24px\"viewBox=\"0 0 24 24\"\n",
              "     width=\"24px\">\n",
              "    <g>\n",
              "        <path d=\"M19 3H5c-1.1 0-2 .9-2 2v14c0 1.1.9 2 2 2h14c1.1 0 2-.9 2-2V5c0-1.1-.9-2-2-2zM9 17H7v-7h2v7zm4 0h-2V7h2v10zm4 0h-2v-4h2v4z\"/>\n",
              "    </g>\n",
              "</svg>\n",
              "  </button>\n",
              "\n",
              "<style>\n",
              "  .colab-df-quickchart {\n",
              "      --bg-color: #E8F0FE;\n",
              "      --fill-color: #1967D2;\n",
              "      --hover-bg-color: #E2EBFA;\n",
              "      --hover-fill-color: #174EA6;\n",
              "      --disabled-fill-color: #AAA;\n",
              "      --disabled-bg-color: #DDD;\n",
              "  }\n",
              "\n",
              "  [theme=dark] .colab-df-quickchart {\n",
              "      --bg-color: #3B4455;\n",
              "      --fill-color: #D2E3FC;\n",
              "      --hover-bg-color: #434B5C;\n",
              "      --hover-fill-color: #FFFFFF;\n",
              "      --disabled-bg-color: #3B4455;\n",
              "      --disabled-fill-color: #666;\n",
              "  }\n",
              "\n",
              "  .colab-df-quickchart {\n",
              "    background-color: var(--bg-color);\n",
              "    border: none;\n",
              "    border-radius: 50%;\n",
              "    cursor: pointer;\n",
              "    display: none;\n",
              "    fill: var(--fill-color);\n",
              "    height: 32px;\n",
              "    padding: 0;\n",
              "    width: 32px;\n",
              "  }\n",
              "\n",
              "  .colab-df-quickchart:hover {\n",
              "    background-color: var(--hover-bg-color);\n",
              "    box-shadow: 0 1px 2px rgba(60, 64, 67, 0.3), 0 1px 3px 1px rgba(60, 64, 67, 0.15);\n",
              "    fill: var(--button-hover-fill-color);\n",
              "  }\n",
              "\n",
              "  .colab-df-quickchart-complete:disabled,\n",
              "  .colab-df-quickchart-complete:disabled:hover {\n",
              "    background-color: var(--disabled-bg-color);\n",
              "    fill: var(--disabled-fill-color);\n",
              "    box-shadow: none;\n",
              "  }\n",
              "\n",
              "  .colab-df-spinner {\n",
              "    border: 2px solid var(--fill-color);\n",
              "    border-color: transparent;\n",
              "    border-bottom-color: var(--fill-color);\n",
              "    animation:\n",
              "      spin 1s steps(1) infinite;\n",
              "  }\n",
              "\n",
              "  @keyframes spin {\n",
              "    0% {\n",
              "      border-color: transparent;\n",
              "      border-bottom-color: var(--fill-color);\n",
              "      border-left-color: var(--fill-color);\n",
              "    }\n",
              "    20% {\n",
              "      border-color: transparent;\n",
              "      border-left-color: var(--fill-color);\n",
              "      border-top-color: var(--fill-color);\n",
              "    }\n",
              "    30% {\n",
              "      border-color: transparent;\n",
              "      border-left-color: var(--fill-color);\n",
              "      border-top-color: var(--fill-color);\n",
              "      border-right-color: var(--fill-color);\n",
              "    }\n",
              "    40% {\n",
              "      border-color: transparent;\n",
              "      border-right-color: var(--fill-color);\n",
              "      border-top-color: var(--fill-color);\n",
              "    }\n",
              "    60% {\n",
              "      border-color: transparent;\n",
              "      border-right-color: var(--fill-color);\n",
              "    }\n",
              "    80% {\n",
              "      border-color: transparent;\n",
              "      border-right-color: var(--fill-color);\n",
              "      border-bottom-color: var(--fill-color);\n",
              "    }\n",
              "    90% {\n",
              "      border-color: transparent;\n",
              "      border-bottom-color: var(--fill-color);\n",
              "    }\n",
              "  }\n",
              "</style>\n",
              "\n",
              "  <script>\n",
              "    async function quickchart(key) {\n",
              "      const quickchartButtonEl =\n",
              "        document.querySelector('#' + key + ' button');\n",
              "      quickchartButtonEl.disabled = true;  // To prevent multiple clicks.\n",
              "      quickchartButtonEl.classList.add('colab-df-spinner');\n",
              "      try {\n",
              "        const charts = await google.colab.kernel.invokeFunction(\n",
              "            'suggestCharts', [key], {});\n",
              "      } catch (error) {\n",
              "        console.error('Error during call to suggestCharts:', error);\n",
              "      }\n",
              "      quickchartButtonEl.classList.remove('colab-df-spinner');\n",
              "      quickchartButtonEl.classList.add('colab-df-quickchart-complete');\n",
              "    }\n",
              "    (() => {\n",
              "      let quickchartButtonEl =\n",
              "        document.querySelector('#df-db98d925-577c-40f9-9bd8-538ee3ab14f7 button');\n",
              "      quickchartButtonEl.style.display =\n",
              "        google.colab.kernel.accessAllowed ? 'block' : 'none';\n",
              "    })();\n",
              "  </script>\n",
              "</div>\n",
              "    </div>\n",
              "  </div>\n"
            ]
          },
          "metadata": {},
          "execution_count": 43
        }
      ],
      "source": [
        "# We load the dataset for you\n",
        "data = pd.read_csv(\"https://wagon-public-datasets.s3.amazonaws.com/certification/fake_news_real_smiles/cleaned_smile.csv\")\n",
        "data.head()"
      ]
    },
    {
      "cell_type": "markdown",
      "metadata": {
        "id": "Dex7o_3T8wT2"
      },
      "source": [
        "Each row represent the image of a human face in black and white\n",
        "- `smile` is the target : 0 for a non smiling person, 1 for a smiling person\n",
        "- `pixels` contains the 4096 (= 64 * 64) flatten values of each pixel in the image, in a black scale from 0 to 255, stored as string"
      ]
    },
    {
      "cell_type": "markdown",
      "metadata": {
        "id": "ii8bqRsa8wT3"
      },
      "source": [
        "**❓ Plot the histogram of smile in your dataset.**"
      ]
    },
    {
      "cell_type": "code",
      "execution_count": 44,
      "metadata": {
        "tags": [
          "challengify"
        ],
        "colab": {
          "base_uri": "https://localhost:8080/",
          "height": 466
        },
        "id": "YhD8JRKX8wT3",
        "outputId": "0321b2f2-1e32-4df2-aae5-4aae42021c1e"
      },
      "outputs": [
        {
          "output_type": "execute_result",
          "data": {
            "text/plain": [
              "<Axes: xlabel='smile', ylabel='Count'>"
            ]
          },
          "metadata": {},
          "execution_count": 44
        },
        {
          "output_type": "display_data",
          "data": {
            "text/plain": [
              "<Figure size 640x480 with 1 Axes>"
            ],
            "image/png": "[encoded data removed]"
          },
          "metadata": {}
        }
      ],
      "source": [
        "sns.histplot(data['smile'])"
      ]
    },
    {
      "cell_type": "markdown",
      "metadata": {
        "id": "JQ1ew-IAwUNL"
      },
      "source": [
        "**❓ Visually display one image of your choice.**"
      ]
    },
    {
      "cell_type": "code",
      "execution_count": 45,
      "metadata": {
        "ExecuteTime": {
          "end_time": "2021-09-10T13:30:09.760329Z",
          "start_time": "2021-09-10T13:30:09.641448Z"
        },
        "id": "q9dLVirWwMoE",
        "tags": [
          "challengify"
        ]
      },
      "outputs": [],
      "source": [
        "def img_show(index):\n",
        "    # Select an image index\n",
        "    image_index = index\n",
        "\n",
        "    # Convert the string of pixel values to an array of integers\n",
        "    pixels = np.array(data.loc[image_index, 'pixels'].split(), dtype=int)\n",
        "\n",
        "    # Reshape the array to the original image shape\n",
        "    image = pixels.reshape(64, 64)\n",
        "\n",
        "    # Display the image\n",
        "    plt.imshow(image, cmap='viridis')\n",
        "    plt.axis('off')\n",
        "    plt.show()"
      ]
    },
    {
      "cell_type": "code",
      "source": [
        "img_show(1)"
      ],
      "metadata": {
        "colab": {
          "base_uri": "https://localhost:8080/",
          "height": 406
        },
        "id": "2Uw1jrKsCc-k",
        "outputId": "d5bd609d-4fe1-4994-f2d1-f59c8b135086"
      },
      "execution_count": 46,
      "outputs": [
        {
          "output_type": "display_data",
          "data": {
            "text/plain": [
              "<Figure size 640x480 with 1 Axes>"
            ],
            "image/png": "[encoded data removed]"
          },
          "metadata": {}
        }
      ]
    },
    {
      "cell_type": "markdown",
      "metadata": {
        "id": "dSoqmnza8wT3"
      },
      "source": [
        "**❓ What is the physical characteristic of the image at _index_ `40`?**\n",
        "\n",
        "- Store in the 3 boolean variables `smile`/`glasses`/`hat` the values `True` if the person smiles/wears glasses/has a hat, `False` else."
      ]
    },
    {
      "cell_type": "code",
      "source": [
        "img_show(40)"
      ],
      "metadata": {
        "colab": {
          "base_uri": "https://localhost:8080/",
          "height": 406
        },
        "id": "d5kd1NGQCvUZ",
        "outputId": "05f1a4b2-5316-48c0-d532-c996687513c6"
      },
      "execution_count": 47,
      "outputs": [
        {
          "output_type": "display_data",
          "data": {
            "text/plain": [
              "<Figure size 640x480 with 1 Axes>"
            ],
            "image/png": "[encoded data removed]"
          },
          "metadata": {}
        }
      ]
    },
    {
      "cell_type": "code",
      "execution_count": 48,
      "metadata": {
        "ExecuteTime": {
          "end_time": "2021-09-10T13:30:37.216365Z",
          "start_time": "2021-09-10T13:30:37.111539Z"
        },
        "tags": [
          "challengify"
        ],
        "id": "of3YsEZJ8wT3"
      },
      "outputs": [],
      "source": [
        "smile = False"
      ]
    },
    {
      "cell_type": "code",
      "execution_count": 49,
      "metadata": {
        "tags": [
          "challengify"
        ],
        "id": "fam_9ikE8wT3"
      },
      "outputs": [],
      "source": [
        "glasses = True\n",
        "hat = False"
      ]
    },
    {
      "cell_type": "markdown",
      "metadata": {
        "id": "EEEWrEEi8wT3"
      },
      "source": [
        "#### 💾 Save your results\n",
        "\n",
        "Run the cell below to save your results."
      ]
    },
    {
      "cell_type": "code",
      "execution_count": 50,
      "metadata": {
        "ExecuteTime": {
          "end_time": "2021-09-10T13:30:41.151566Z",
          "start_time": "2021-09-10T13:30:41.145642Z"
        },
        "id": "nmV4oTaG8wT4"
      },
      "outputs": [],
      "source": [
        "from nbresult import ChallengeResult\n",
        "result = ChallengeResult('cnn_images_visualization',\n",
        "                         smile=smile,\n",
        "                         glasses=glasses,\n",
        "                         hat=hat)\n",
        "result.write()"
      ]
    },
    {
      "cell_type": "markdown",
      "metadata": {
        "id": "nqSxLgfH8wT4"
      },
      "source": [
        "### 2.2 Data Preprocessing (given)"
      ]
    },
    {
      "cell_type": "markdown",
      "metadata": {
        "id": "yHFMJXPJ8wT4"
      },
      "source": [
        "Then we performed the following preprocessing for you:\n",
        "- We converted each image into a list of integers, each integer being one pixel of the image\n",
        "\n",
        "- We normalized the pixel size by dividing by 255\n",
        "\n",
        "- split the data into train and test set\n",
        "\n",
        "Please, execute the following cells:"
      ]
    },
    {
      "cell_type": "code",
      "execution_count": 51,
      "metadata": {
        "tags": [
          "clear_output"
        ],
        "colab": {
          "base_uri": "https://localhost:8080/"
        },
        "id": "7bB95W388wT4",
        "outputId": "12ed42f0-1638-4163-a596-c9b9dbd43f61"
      },
      "outputs": [
        {
          "output_type": "stream",
          "name": "stdout",
          "text": [
            "0    4000\n",
            "1    3690\n",
            "Name: smile, dtype: int64\n"
          ]
        }
      ],
      "source": [
        "# We create features\n",
        "y = data.smile\n",
        "X = data.pixels\n",
        "\n",
        "# We analyse class balance which gives us a baseline to beat\n",
        "print(pd.value_counts(y))"
      ]
    },
    {
      "cell_type": "code",
      "execution_count": 52,
      "metadata": {
        "tags": [
          "clear_output"
        ],
        "id": "KL0ShumU8wT4"
      },
      "outputs": [],
      "source": [
        "#from strings to list of integers\n",
        "X = data[\"pixels\"].apply(lambda x: np.array(x.split(), dtype=\"int32\"))\n",
        "X = np.vstack(X)\n",
        "\n",
        "#unflattened image\n",
        "X = X.reshape(-1, 64, 64, 1)\n",
        "\n",
        "# Normalize data\n",
        "X = X / 255."
      ]
    },
    {
      "cell_type": "code",
      "execution_count": 53,
      "metadata": {
        "tags": [
          "clear_output"
        ],
        "colab": {
          "base_uri": "https://localhost:8080/"
        },
        "id": "iYRTFJ9U8wT4",
        "outputId": "a7503885-5a92-4bd7-d33a-186a77c9a348"
      },
      "outputs": [
        {
          "output_type": "stream",
          "name": "stdout",
          "text": [
            "(5383, 64, 64, 1) (5383,) (2307, 64, 64, 1) (2307,)\n"
          ]
        }
      ],
      "source": [
        "#train test split (70/30 ratio)\n",
        "idx_split = round(len(X)*0.7)\n",
        "\n",
        "X_train = X[0:idx_split]\n",
        "y_train = y[0:idx_split]\n",
        "X_test = X[idx_split:]\n",
        "y_test = y[idx_split:]\n",
        "\n",
        "assert len(X_train) + len(X_test) == len(X)\n",
        "print(X_train.shape, y_train.shape, X_test.shape, y_test.shape)"
      ]
    },
    {
      "cell_type": "markdown",
      "metadata": {
        "id": "5WgqTin98wT5"
      },
      "source": [
        "### 2.3 Model Training"
      ]
    },
    {
      "cell_type": "markdown",
      "metadata": {
        "id": "Gm1uGqLc8wT5"
      },
      "source": [
        "❓ **Before training a complex model, let's think about the performance metrics we will use**\n",
        "- We want to avoid false alarms as much as possible, so that we want our model to avoid predicting that someone smiles if he is not\n",
        "- which [keras metrics](https://www.tensorflow.org/api_docs/python/tf/keras/metrics) will we use ?\n",
        "- Store the result under `scoring_metric`"
      ]
    },
    {
      "cell_type": "code",
      "execution_count": 55,
      "metadata": {
        "ExecuteTime": {
          "end_time": "2021-09-10T13:31:15.147745Z",
          "start_time": "2021-09-10T13:31:15.138524Z"
        },
        "tags": [
          "challengify"
        ],
        "id": "5XoaUbhV8wT5"
      },
      "outputs": [],
      "source": [
        "# from tensorflow.keras.metrics import Precision\n",
        "# scoring_metric = Precision()\n",
        "# scoring_metric\n",
        "scroring_metric = 'precision'"
      ]
    },
    {
      "cell_type": "markdown",
      "metadata": {
        "id": "xrMAUdXX8wT5"
      },
      "source": [
        "❓ **Build and fit a convolutional neural network**\n",
        "\n",
        "- Name it `model`\n",
        "- Store output of `.fit()` in a variable `history`\n",
        "- Do not use transfer learning\n",
        "- Make sure your model does not overfit with appropriate control techniques\n",
        "\n",
        "💡 Manage wisely your training time. You should obtain significantly better performance than the baseline in less than 5 minutes with average processor and no graphic cards."
      ]
    },
    {
      "cell_type": "code",
      "execution_count": 63,
      "metadata": {
        "tags": [
          "challengify"
        ],
        "colab": {
          "base_uri": "https://localhost:8080/"
        },
        "id": "GEpZslyB8wT5",
        "outputId": "439e3eeb-3532-43d9-e49f-ce83f03b17b9"
      },
      "outputs": [
        {
          "output_type": "stream",
          "name": "stdout",
          "text": [
            "Epoch 1/100\n",
            "68/68 [==============================] - 3s 13ms/step - loss: 0.6651 - precision: 0.7291 - val_loss: 0.5585 - val_precision: 0.6516\n",
            "Epoch 2/100\n",
            "68/68 [==============================] - 1s 9ms/step - loss: 0.3960 - precision: 0.8185 - val_loss: 0.3538 - val_precision: 0.9284\n",
            "Epoch 3/100\n",
            "68/68 [==============================] - 1s 10ms/step - loss: 0.3302 - precision: 0.8594 - val_loss: 0.3242 - val_precision: 0.8249\n",
            "Epoch 4/100\n",
            "68/68 [==============================] - 1s 9ms/step - loss: 0.3156 - precision: 0.8642 - val_loss: 0.3332 - val_precision: 0.9345\n",
            "Epoch 5/100\n",
            "68/68 [==============================] - 1s 9ms/step - loss: 0.2886 - precision: 0.8786 - val_loss: 0.2919 - val_precision: 0.9032\n",
            "Epoch 6/100\n",
            "68/68 [==============================] - 1s 9ms/step - loss: 0.2809 - precision: 0.8826 - val_loss: 0.2894 - val_precision: 0.8931\n",
            "Epoch 7/100\n",
            "68/68 [==============================] - 1s 11ms/step - loss: 0.2672 - precision: 0.8927 - val_loss: 0.2820 - val_precision: 0.8982\n",
            "Epoch 8/100\n",
            "68/68 [==============================] - 1s 10ms/step - loss: 0.2489 - precision: 0.9048 - val_loss: 0.2823 - val_precision: 0.8569\n",
            "Epoch 9/100\n",
            "68/68 [==============================] - 1s 12ms/step - loss: 0.2383 - precision: 0.9006 - val_loss: 0.2707 - val_precision: 0.9075\n",
            "Epoch 10/100\n",
            "68/68 [==============================] - 1s 11ms/step - loss: 0.2343 - precision: 0.8983 - val_loss: 0.2875 - val_precision: 0.8868\n",
            "Epoch 11/100\n",
            "68/68 [==============================] - 1s 9ms/step - loss: 0.2222 - precision: 0.9044 - val_loss: 0.2717 - val_precision: 0.8931\n",
            "Epoch 12/100\n",
            "68/68 [==============================] - 1s 9ms/step - loss: 0.2079 - precision: 0.9178 - val_loss: 0.2754 - val_precision: 0.8879\n",
            "Epoch 13/100\n",
            "68/68 [==============================] - 1s 9ms/step - loss: 0.1903 - precision: 0.9258 - val_loss: 0.3083 - val_precision: 0.9283\n",
            "Epoch 14/100\n",
            "68/68 [==============================] - 1s 9ms/step - loss: 0.1777 - precision: 0.9294 - val_loss: 0.2919 - val_precision: 0.9163\n",
            "Epoch 15/100\n",
            "68/68 [==============================] - 1s 9ms/step - loss: 0.1806 - precision: 0.9268 - val_loss: 0.2903 - val_precision: 0.8462\n",
            "Epoch 16/100\n",
            "68/68 [==============================] - 1s 9ms/step - loss: 0.1561 - precision: 0.9393 - val_loss: 0.2991 - val_precision: 0.8990\n",
            "Epoch 17/100\n",
            "68/68 [==============================] - 1s 9ms/step - loss: 0.1524 - precision: 0.9392 - val_loss: 0.3060 - val_precision: 0.8889\n",
            "Epoch 18/100\n",
            "68/68 [==============================] - 1s 9ms/step - loss: 0.1347 - precision: 0.9454 - val_loss: 0.3045 - val_precision: 0.8651\n",
            "Epoch 19/100\n",
            "68/68 [==============================] - 1s 10ms/step - loss: 0.1284 - precision: 0.9515 - val_loss: 0.3100 - val_precision: 0.8866\n",
            "Epoch 20/100\n",
            "68/68 [==============================] - 1s 9ms/step - loss: 0.1086 - precision: 0.9587 - val_loss: 0.3237 - val_precision: 0.9027\n",
            "Epoch 21/100\n",
            "68/68 [==============================] - 1s 9ms/step - loss: 0.1149 - precision: 0.9591 - val_loss: 0.3254 - val_precision: 0.8704\n",
            "Epoch 22/100\n",
            "68/68 [==============================] - 1s 9ms/step - loss: 0.0912 - precision: 0.9643 - val_loss: 0.3553 - val_precision: 0.9138\n",
            "Epoch 23/100\n",
            "68/68 [==============================] - 1s 9ms/step - loss: 0.0899 - precision: 0.9675 - val_loss: 0.3515 - val_precision: 0.8910\n",
            "Epoch 24/100\n",
            "68/68 [==============================] - 1s 9ms/step - loss: 0.0745 - precision: 0.9743 - val_loss: 0.3554 - val_precision: 0.8564\n",
            "Epoch 25/100\n",
            "68/68 [==============================] - 1s 9ms/step - loss: 0.0722 - precision: 0.9729 - val_loss: 0.4341 - val_precision: 0.9255\n",
            "Epoch 26/100\n",
            "68/68 [==============================] - 1s 9ms/step - loss: 0.0615 - precision: 0.9781 - val_loss: 0.3863 - val_precision: 0.9008\n",
            "Epoch 27/100\n",
            "68/68 [==============================] - 1s 11ms/step - loss: 0.0550 - precision: 0.9778 - val_loss: 0.4097 - val_precision: 0.8616\n",
            "Epoch 28/100\n",
            "68/68 [==============================] - 1s 11ms/step - loss: 0.0401 - precision: 0.9893 - val_loss: 0.4724 - val_precision: 0.9065\n",
            "Epoch 29/100\n",
            "68/68 [==============================] - 1s 12ms/step - loss: 0.0348 - precision: 0.9917 - val_loss: 0.4737 - val_precision: 0.9175\n",
            "Epoch 30/100\n",
            "68/68 [==============================] - 1s 11ms/step - loss: 0.0340 - precision: 0.9898 - val_loss: 0.4840 - val_precision: 0.8805\n",
            "Epoch 31/100\n",
            "68/68 [==============================] - 1s 10ms/step - loss: 0.0225 - precision: 0.9956 - val_loss: 0.4936 - val_precision: 0.8996\n",
            "Epoch 32/100\n",
            "68/68 [==============================] - 1s 13ms/step - loss: 0.0204 - precision: 0.9947 - val_loss: 0.5044 - val_precision: 0.8956\n",
            "Epoch 33/100\n",
            "68/68 [==============================] - 1s 11ms/step - loss: 0.0141 - precision: 0.9990 - val_loss: 0.5110 - val_precision: 0.8504\n",
            "Epoch 34/100\n",
            "68/68 [==============================] - 1s 13ms/step - loss: 0.0165 - precision: 0.9981 - val_loss: 0.5229 - val_precision: 0.8951\n",
            "Epoch 35/100\n",
            "68/68 [==============================] - 1s 11ms/step - loss: 0.0136 - precision: 0.9981 - val_loss: 0.5315 - val_precision: 0.8887\n",
            "Epoch 36/100\n",
            "68/68 [==============================] - 1s 9ms/step - loss: 0.0190 - precision: 0.9952 - val_loss: 0.5151 - val_precision: 0.8885\n",
            "Epoch 37/100\n",
            "68/68 [==============================] - 1s 9ms/step - loss: 0.0135 - precision: 0.9976 - val_loss: 0.6018 - val_precision: 0.9146\n",
            "Epoch 38/100\n",
            "68/68 [==============================] - 1s 9ms/step - loss: 0.0099 - precision: 0.9985 - val_loss: 0.5738 - val_precision: 0.8800\n",
            "Epoch 39/100\n",
            "68/68 [==============================] - 1s 9ms/step - loss: 0.0099 - precision: 0.9981 - val_loss: 0.5850 - val_precision: 0.8512\n",
            "Epoch 40/100\n",
            "68/68 [==============================] - 1s 9ms/step - loss: 0.0157 - precision: 0.9976 - val_loss: 0.6822 - val_precision: 0.9070\n",
            "Epoch 41/100\n",
            "68/68 [==============================] - 1s 9ms/step - loss: 0.0357 - precision: 0.9883 - val_loss: 0.6747 - val_precision: 0.9270\n",
            "Epoch 42/100\n",
            "68/68 [==============================] - 1s 9ms/step - loss: 0.0227 - precision: 0.9942 - val_loss: 0.5685 - val_precision: 0.8688\n",
            "Epoch 43/100\n",
            "68/68 [==============================] - 1s 9ms/step - loss: 0.0129 - precision: 0.9961 - val_loss: 0.6228 - val_precision: 0.8839\n",
            "Epoch 44/100\n",
            "68/68 [==============================] - 1s 8ms/step - loss: 0.0105 - precision: 0.9976 - val_loss: 0.5931 - val_precision: 0.8819\n",
            "Epoch 45/100\n",
            "68/68 [==============================] - 1s 9ms/step - loss: 0.0174 - precision: 0.9961 - val_loss: 0.6483 - val_precision: 0.9172\n",
            "Epoch 46/100\n",
            "68/68 [==============================] - 1s 11ms/step - loss: 0.0060 - precision: 0.9990 - val_loss: 0.6551 - val_precision: 0.9051\n",
            "Epoch 47/100\n",
            "68/68 [==============================] - 1s 11ms/step - loss: 0.0030 - precision: 1.0000 - val_loss: 0.6959 - val_precision: 0.9020\n",
            "Epoch 48/100\n",
            "68/68 [==============================] - 1s 11ms/step - loss: 0.0050 - precision: 0.9995 - val_loss: 0.6646 - val_precision: 0.8815\n",
            "Epoch 49/100\n",
            "68/68 [==============================] - 1s 10ms/step - loss: 0.0029 - precision: 0.9995 - val_loss: 0.8006 - val_precision: 0.9272\n",
            "Epoch 50/100\n",
            "68/68 [==============================] - 1s 9ms/step - loss: 0.0033 - precision: 1.0000 - val_loss: 0.6951 - val_precision: 0.8955\n",
            "Epoch 51/100\n",
            "68/68 [==============================] - 1s 9ms/step - loss: 0.0027 - precision: 0.9995 - val_loss: 0.7096 - val_precision: 0.9049\n",
            "Epoch 52/100\n",
            "68/68 [==============================] - 1s 9ms/step - loss: 0.0049 - precision: 0.9995 - val_loss: 0.6644 - val_precision: 0.8988\n",
            "Epoch 53/100\n",
            "68/68 [==============================] - 1s 10ms/step - loss: 0.0055 - precision: 0.9995 - val_loss: 0.7253 - val_precision: 0.9102\n",
            "Epoch 54/100\n",
            "68/68 [==============================] - 1s 9ms/step - loss: 0.0030 - precision: 1.0000 - val_loss: 0.7079 - val_precision: 0.8872\n",
            "Epoch 55/100\n",
            "68/68 [==============================] - 1s 9ms/step - loss: 0.0031 - precision: 0.9995 - val_loss: 0.7773 - val_precision: 0.9174\n",
            "Epoch 56/100\n",
            "68/68 [==============================] - 1s 9ms/step - loss: 0.0050 - precision: 0.9995 - val_loss: 0.7813 - val_precision: 0.9170\n",
            "Epoch 57/100\n",
            "68/68 [==============================] - 1s 9ms/step - loss: 0.0050 - precision: 1.0000 - val_loss: 0.7612 - val_precision: 0.8964\n",
            "Epoch 58/100\n",
            "68/68 [==============================] - 1s 10ms/step - loss: 0.0044 - precision: 0.9995 - val_loss: 0.7391 - val_precision: 0.9052\n",
            "Epoch 59/100\n",
            "68/68 [==============================] - 1s 9ms/step - loss: 0.0024 - precision: 0.9995 - val_loss: 0.7114 - val_precision: 0.8798\n",
            "Epoch 60/100\n",
            "68/68 [==============================] - 1s 9ms/step - loss: 0.0033 - precision: 1.0000 - val_loss: 0.8232 - val_precision: 0.9184\n",
            "Epoch 61/100\n",
            "68/68 [==============================] - 1s 9ms/step - loss: 0.0032 - precision: 0.9995 - val_loss: 0.7406 - val_precision: 0.8955\n",
            "Epoch 62/100\n",
            "68/68 [==============================] - 1s 9ms/step - loss: 0.0024 - precision: 1.0000 - val_loss: 0.7835 - val_precision: 0.8998\n",
            "Epoch 63/100\n",
            "68/68 [==============================] - 1s 9ms/step - loss: 0.0042 - precision: 0.9995 - val_loss: 0.7622 - val_precision: 0.8917\n",
            "Epoch 64/100\n",
            "68/68 [==============================] - 1s 9ms/step - loss: 0.0026 - precision: 0.9995 - val_loss: 0.7430 - val_precision: 0.8988\n",
            "Epoch 65/100\n",
            "68/68 [==============================] - 1s 9ms/step - loss: 0.0046 - precision: 0.9995 - val_loss: 0.6802 - val_precision: 0.8831\n",
            "Epoch 66/100\n",
            "68/68 [==============================] - 1s 11ms/step - loss: 0.0026 - precision: 1.0000 - val_loss: 0.8041 - val_precision: 0.9016\n",
            "Epoch 67/100\n",
            "68/68 [==============================] - 1s 11ms/step - loss: 0.0022 - precision: 0.9995 - val_loss: 0.8754 - val_precision: 0.9236\n",
            "Epoch 68/100\n",
            "68/68 [==============================] - 1s 11ms/step - loss: 0.0038 - precision: 1.0000 - val_loss: 0.7676 - val_precision: 0.8994\n",
            "Epoch 69/100\n",
            "68/68 [==============================] - 1s 11ms/step - loss: 0.0021 - precision: 0.9995 - val_loss: 0.7162 - val_precision: 0.8936\n",
            "Epoch 70/100\n",
            "68/68 [==============================] - 1s 8ms/step - loss: 0.0048 - precision: 0.9995 - val_loss: 0.8220 - val_precision: 0.9212\n",
            "Epoch 71/100\n",
            "68/68 [==============================] - 1s 9ms/step - loss: 0.0037 - precision: 1.0000 - val_loss: 0.7548 - val_precision: 0.9128\n",
            "Epoch 72/100\n",
            "68/68 [==============================] - 1s 9ms/step - loss: 0.0070 - precision: 0.9995 - val_loss: 0.7647 - val_precision: 0.8988\n",
            "Epoch 73/100\n",
            "68/68 [==============================] - 1s 9ms/step - loss: 0.0021 - precision: 0.9995 - val_loss: 0.7173 - val_precision: 0.8891\n",
            "Epoch 74/100\n",
            "68/68 [==============================] - 1s 9ms/step - loss: 0.0032 - precision: 1.0000 - val_loss: 0.7738 - val_precision: 0.9006\n",
            "Epoch 75/100\n",
            "68/68 [==============================] - 1s 9ms/step - loss: 0.0020 - precision: 0.9995 - val_loss: 0.8419 - val_precision: 0.9172\n",
            "Epoch 76/100\n",
            "68/68 [==============================] - 1s 9ms/step - loss: 0.0051 - precision: 0.9995 - val_loss: 0.7886 - val_precision: 0.9036\n",
            "Epoch 77/100\n",
            "68/68 [==============================] - 1s 9ms/step - loss: 0.0040 - precision: 1.0000 - val_loss: 0.7854 - val_precision: 0.8970\n",
            "Epoch 78/100\n",
            "68/68 [==============================] - 1s 9ms/step - loss: 0.0024 - precision: 0.9995 - val_loss: 0.7801 - val_precision: 0.9069\n",
            "Epoch 79/100\n",
            "68/68 [==============================] - 1s 9ms/step - loss: 0.0045 - precision: 1.0000 - val_loss: 0.7767 - val_precision: 0.8947\n",
            "Epoch 80/100\n",
            "68/68 [==============================] - 1s 9ms/step - loss: 0.0026 - precision: 0.9995 - val_loss: 0.8240 - val_precision: 0.9052\n",
            "Epoch 81/100\n",
            "68/68 [==============================] - 1s 9ms/step - loss: 0.0146 - precision: 0.9956 - val_loss: 0.7429 - val_precision: 0.8937\n",
            "Epoch 82/100\n",
            "68/68 [==============================] - 1s 9ms/step - loss: 0.0770 - precision: 0.9704 - val_loss: 0.5986 - val_precision: 0.8587\n",
            "Epoch 83/100\n",
            "68/68 [==============================] - 1s 9ms/step - loss: 0.0386 - precision: 0.9874 - val_loss: 0.6691 - val_precision: 0.8876\n",
            "Epoch 84/100\n",
            "68/68 [==============================] - 1s 9ms/step - loss: 0.0117 - precision: 0.9971 - val_loss: 0.6664 - val_precision: 0.8336\n",
            "Epoch 85/100\n",
            "68/68 [==============================] - 1s 9ms/step - loss: 0.0090 - precision: 0.9966 - val_loss: 0.6351 - val_precision: 0.8736\n",
            "Epoch 86/100\n",
            "68/68 [==============================] - 1s 10ms/step - loss: 0.0031 - precision: 0.9990 - val_loss: 0.7108 - val_precision: 0.9206\n",
            "Epoch 87/100\n",
            "68/68 [==============================] - 1s 11ms/step - loss: 0.0035 - precision: 0.9995 - val_loss: 0.7121 - val_precision: 0.9135\n",
            "Epoch 88/100\n",
            "68/68 [==============================] - 1s 11ms/step - loss: 0.0044 - precision: 0.9995 - val_loss: 0.7089 - val_precision: 0.9137\n",
            "Epoch 89/100\n",
            "68/68 [==============================] - 1s 11ms/step - loss: 0.0027 - precision: 1.0000 - val_loss: 0.7249 - val_precision: 0.9058\n",
            "Epoch 90/100\n",
            "68/68 [==============================] - 1s 9ms/step - loss: 0.0021 - precision: 0.9995 - val_loss: 0.7091 - val_precision: 0.8930\n",
            "Epoch 91/100\n",
            "68/68 [==============================] - 1s 9ms/step - loss: 0.0020 - precision: 1.0000 - val_loss: 0.7646 - val_precision: 0.9038\n",
            "Epoch 92/100\n",
            "68/68 [==============================] - 1s 9ms/step - loss: 0.0042 - precision: 0.9995 - val_loss: 0.7589 - val_precision: 0.9074\n",
            "Epoch 93/100\n",
            "68/68 [==============================] - 1s 9ms/step - loss: 0.0029 - precision: 0.9995 - val_loss: 0.7351 - val_precision: 0.8874\n",
            "Epoch 94/100\n",
            "68/68 [==============================] - 1s 9ms/step - loss: 0.0037 - precision: 0.9995 - val_loss: 0.7375 - val_precision: 0.8963\n",
            "Epoch 95/100\n",
            "68/68 [==============================] - 1s 9ms/step - loss: 0.0016 - precision: 0.9995 - val_loss: 0.7754 - val_precision: 0.9113\n",
            "Epoch 96/100\n",
            "68/68 [==============================] - 1s 9ms/step - loss: 0.0024 - precision: 1.0000 - val_loss: 0.7295 - val_precision: 0.8713\n",
            "Epoch 97/100\n",
            "68/68 [==============================] - 1s 9ms/step - loss: 0.0051 - precision: 0.9995 - val_loss: 0.7318 - val_precision: 0.9034\n",
            "Epoch 98/100\n",
            "68/68 [==============================] - 1s 9ms/step - loss: 0.0049 - precision: 0.9995 - val_loss: 0.7435 - val_precision: 0.9073\n",
            "Epoch 99/100\n",
            "68/68 [==============================] - 1s 10ms/step - loss: 0.0049 - precision: 0.9995 - val_loss: 0.7626 - val_precision: 0.9089\n",
            "Epoch 100/100\n",
            "68/68 [==============================] - 1s 9ms/step - loss: 0.0028 - precision: 0.9995 - val_loss: 0.6842 - val_precision: 0.8927\n"
          ]
        }
      ],
      "source": [
        "from tensorflow.keras.metrics import Precision\n",
        "\n",
        "#instantiate and create model :\n",
        "model = Sequential()\n",
        "#add CON2D layes with maxpooling\n",
        "model.add(layers.Conv2D(32, (3, 3), activation='relu', input_shape=(64, 64, 1)))\n",
        "model.add(layers.MaxPooling2D((2, 2)))\n",
        "model.add(layers.Conv2D(64, (3, 3), activation='relu'))\n",
        "model.add(layers.MaxPooling2D((2, 2)))\n",
        "#Flatten for outputshape\n",
        "model.add(layers.Flatten())\n",
        "model.add(layers.Dense(64, activation='relu'))\n",
        "#Binary output :\n",
        "model.add(layers.Dense(1, activation='sigmoid'))\n",
        "\n",
        "model.compile(\n",
        "    optimizer='adam',\n",
        "    loss='binary_crossentropy',\n",
        "    metrics='Precision'\n",
        ")\n",
        "\n",
        "#es = EarlyStopping(patience=4)\n",
        "history = model.fit(\n",
        "    X_train,\n",
        "    y_train,\n",
        "    batch_size=64,\n",
        "    epochs=100,\n",
        "    validation_split=0.2,\n",
        "    #callbacks=[es]\n",
        ")\n"
      ]
    },
    {
      "cell_type": "code",
      "execution_count": null,
      "metadata": {
        "tags": [
          "challengify"
        ],
        "id": "8WEdRYF38wT5"
      },
      "outputs": [],
      "source": []
    },
    {
      "cell_type": "code",
      "execution_count": null,
      "metadata": {
        "scrolled": true,
        "tags": [
          "challengify"
        ],
        "id": "NOfHij4X8wT5"
      },
      "outputs": [],
      "source": [
        "# YOUR CODE HERE"
      ]
    },
    {
      "cell_type": "markdown",
      "metadata": {
        "id": "rPMdKG6N8wT6"
      },
      "source": [
        "❓ **Plot your training and validation metric at each epoch using the cell below**"
      ]
    },
    {
      "cell_type": "code",
      "execution_count": 65,
      "metadata": {
        "ExecuteTime": {
          "end_time": "2021-09-10T13:38:13.987857Z",
          "start_time": "2021-09-10T13:38:13.959791Z"
        },
        "colab": {
          "base_uri": "https://localhost:8080/",
          "height": 489
        },
        "id": "bdO43v3-8wT6",
        "outputId": "726928a8-c577-4ca0-a0b5-5ed1a4068788"
      },
      "outputs": [
        {
          "output_type": "display_data",
          "data": {
            "text/plain": [
              "<Figure size 640x480 with 1 Axes>"
            ],
            "image/png": "[encoded data removed]"
          },
          "metadata": {}
        },
        {
          "output_type": "display_data",
          "data": {
            "text/plain": [
              "<Figure size 640x480 with 0 Axes>"
            ]
          },
          "metadata": {}
        }
      ],
      "source": [
        "# Plot below your train/val loss history\n",
        "#$CHALLENGIFY_BEGIN\n",
        "\n",
        "pre = history.history['precision']\n",
        "val_pre = history.history['val_precision']\n",
        "\n",
        "epochs = range(1, len(pre) + 1)\n",
        "\n",
        "plt.plot(epochs, pre, 'r', label='Training Precision')\n",
        "plt.plot(epochs, val_pre, 'b', label='Validation Precision')\n",
        "\n",
        "plt.title('Training and validation Precision')\n",
        "plt.xlabel('Epochs')\n",
        "plt.ylabel('Precision')\n",
        "plt.legend()\n",
        "\n",
        "plt.show()\n",
        "#$CHALLENGIFY_END\n",
        "\n",
        "# Run also this code to save figure as jpg in path below (it's your job to ensure it works)\n",
        "fig = plt.gcf()\n",
        "fig.savefig(\"tests/history_cnn.png\")"
      ]
    },
    {
      "cell_type": "markdown",
      "metadata": {
        "id": "ODl901YM8wT6"
      },
      "source": [
        "❓ **Evaluate your performances on test set**\n",
        "- Store your test score as `score_test`"
      ]
    },
    {
      "cell_type": "code",
      "execution_count": 66,
      "metadata": {
        "ExecuteTime": {
          "end_time": "2021-09-10T13:39:01.322864Z",
          "start_time": "2021-09-10T13:38:59.648669Z"
        },
        "colab": {
          "base_uri": "https://localhost:8080/"
        },
        "outputId": "f945bb35-b05a-459c-c960-808f078ed114",
        "scrolled": true,
        "tags": [
          "challengify"
        ],
        "id": "6FC4vQyi8wT6"
      },
      "outputs": [
        {
          "output_type": "stream",
          "name": "stdout",
          "text": [
            "73/73 [==============================] - 0s 5ms/step - loss: 0.7258 - precision: 0.8628\n"
          ]
        },
        {
          "output_type": "execute_result",
          "data": {
            "text/plain": [
              "0.8627968430519104"
            ]
          },
          "metadata": {},
          "execution_count": 66
        }
      ],
      "source": [
        "score_test = model.evaluate(X_test, y_test)[1]\n",
        "score_test"
      ]
    },
    {
      "cell_type": "markdown",
      "metadata": {
        "id": "BZ6IOw-n8wT6"
      },
      "source": [
        "#### 💾 Save your results\n",
        "\n",
        "Run the cell below to save your results."
      ]
    },
    {
      "cell_type": "code",
      "execution_count": 67,
      "metadata": {
        "ExecuteTime": {
          "end_time": "2021-09-10T13:39:03.545406Z",
          "start_time": "2021-09-10T13:39:03.533292Z"
        },
        "id": "Xh2t9Ajg8wT6"
      },
      "outputs": [],
      "source": [
        "from nbresult import ChallengeResult\n",
        "import tensorflow as tf\n",
        "\n",
        "result = ChallengeResult(\n",
        "    \"cnn\",\n",
        "    input_shape = list(model.input.shape),\n",
        "    output_shape = list(model.output.shape),\n",
        "    layer_names = [layer.name for layer in model.layers],\n",
        "    trainable_params = sum([tf.size(w_matrix).numpy() for w_matrix in model.trainable_variables]),\n",
        "    scoring_metric = scoring_metric,\n",
        "    score_test = score_test,\n",
        ")\n",
        "result.write()"
      ]
    },
    {
      "cell_type": "code",
      "execution_count": null,
      "metadata": {
        "id": "bUT6ck-C8wT6"
      },
      "outputs": [],
      "source": []
    }
  ],
  "metadata": {
    "accelerator": "GPU",
    "colab": {
      "provenance": [],
      "include_colab_link": true
    },
    "kernelspec": {
      "display_name": "Python 3 (ipykernel)",
      "language": "python",
      "name": "python3"
    },
    "language_info": {
      "codemirror_mode": {
        "name": "ipython",
        "version": 3
      },
      "file_extension": ".py",
      "mimetype": "text/x-python",
      "name": "python",
      "nbconvert_exporter": "python",
      "pygments_lexer": "ipython3",
      "version": "3.10.6"
    },
    "toc": {
      "base_numbering": 1,
      "nav_menu": {},
      "number_sections": false,
      "sideBar": true,
      "skip_h1_title": false,
      "title_cell": "Table of Contents",
      "title_sidebar": "Contents",
      "toc_cell": false,
      "toc_position": {
        "height": "calc(100% - 180px)",
        "left": "10px",
        "top": "150px",
        "width": "229px"
      },
      "toc_section_display": true,
      "toc_window_display": false
    },
    "varInspector": {
      "cols": {
        "lenName": 16,
        "lenType": 16,
        "lenVar": 40
      },
      "kernels_config": {
        "python": {
          "delete_cmd_postfix": "",
          "delete_cmd_prefix": "del ",
          "library": "var_list.py",
          "varRefreshCmd": "print(var_dic_list())"
        },
        "r": {
          "delete_cmd_postfix": ") ",
          "delete_cmd_prefix": "rm(",
          "library": "var_list.r",
          "varRefreshCmd": "cat(var_dic_list()) "
        }
      },
      "position": {
        "height": "144.716px",
        "left": "924.091px",
        "right": "20px",
        "top": "119px",
        "width": "350px"
      },
      "types_to_exclude": [
        "module",
        "function",
        "builtin_function_or_method",
        "instance",
        "_Feature"
      ],
      "window_display": false
    }
  },
  "nbformat": 4,
  "nbformat_minor": 0
}